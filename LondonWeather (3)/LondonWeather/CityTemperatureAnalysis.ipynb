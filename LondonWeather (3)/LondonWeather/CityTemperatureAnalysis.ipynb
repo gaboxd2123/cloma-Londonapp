{
 "cells": [
  {
   "cell_type": "markdown",
   "id": "8598c4ee-8948-4694-9520-730514c0997f",
   "metadata": {},
   "source": [
    "## Análisis de Datos de Temperatura\n",
    "\n",
    "- Fecha: 2024-08-14\n",
    "- Coder: Boris Gabriel Garcés Proaño, \n",
    "          Hodalys Anahí López Núñez\n",
    "- Objetivo: realizar la isnpección sobre los datos recolectados a través del API de openweather y usando la configuración de Linux para el registro de los mismos"
   ]
  },
  {
   "cell_type": "code",
   "execution_count": 57,
   "id": "f0d0bfc2-34a5-4757-a1ec-9df5a0bfeda0",
   "metadata": {
    "scrolled": true
   },
   "outputs": [
    {
     "data": {
      "text/plain": [
       "['main.py',\n",
       " 'main.py~',\n",
       " 'output.log',\n",
       " 'clima-london-hoy-etl.csv',\n",
       " 'temperature.png',\n",
       " 'get-weather2.sh~',\n",
       " '.ipynb_checkpoints',\n",
       " 'run.sh',\n",
       " 'clima-london-hoy.csv',\n",
       " 'CityTemperatureAnalysis.ipynb',\n",
       " 'get-weather.sh',\n",
       " 'weather-site']"
      ]
     },
     "execution_count": 57,
     "metadata": {},
     "output_type": "execute_result"
    }
   ],
   "source": [
    "import os\n",
    "import pandas as pd\n",
    "os.listdir(os.getcwd())"
   ]
  },
  {
   "cell_type": "markdown",
   "id": "34dc994b-a482-4547-ba89-103c6ba239ff",
   "metadata": {},
   "source": [
    "### Lectura de Datos\n",
    "Lectura del archivo csv con *with open* debido a que openweather coloca valores sobre la lluvia y la nieve cuando éstos están disponibles por lo que en este caso he obtenido 30 campos de lectura obviando los referidos. Esto puede solventarse incluyendo los campos con valor NaN por defecto en el programa de Python para captura de información"
   ]
  },
  {
   "cell_type": "code",
   "execution_count": 83,
   "id": "700273d9-c22f-4ea6-ab55-7dc6bdc9153a",
   "metadata": {},
   "outputs": [
    {
     "name": "stdout",
     "output_type": "stream",
     "text": [
      "El archivo contiene 196 filas.\n"
     ]
    }
   ],
   "source": [
    "import csv\n",
    "\n",
    "csv_file = 'clima-london-hoy.csv'\n",
    "\n",
    "# Verificar si el archivo tiene contenido y cuántas filas contiene\n",
    "with open(csv_file, 'r') as f:\n",
    "    reader = csv.reader(f)\n",
    "    rows = list(reader)\n",
    "    print(f\"El archivo contiene {len(rows)} filas.\")\n"
   ]
  },
  {
   "cell_type": "code",
   "execution_count": 84,
   "id": "66dc76fd-502b-4ad9-b899-abe081958038",
   "metadata": {},
   "outputs": [
    {
     "name": "stdout",
     "output_type": "stream",
     "text": [
      "1 195\n"
     ]
    }
   ],
   "source": [
    "header = rows[0]\n",
    "data = rows[1:]\n",
    "print(len(header), len(data))"
   ]
  },
  {
   "cell_type": "code",
   "execution_count": 85,
   "id": "533b2090-b313-4088-b0cd-1f150f4dd827",
   "metadata": {},
   "outputs": [
    {
     "data": {
      "text/plain": [
       "(195, 31)"
      ]
     },
     "execution_count": 85,
     "metadata": {},
     "output_type": "execute_result"
    }
   ],
   "source": [
    "df = pd.read_csv('clima-london-hoy.csv', sep=\";\")\n",
    "# df = pd.DataFrame(data, columns=header)\n",
    "df.shape"
   ]
  },
  {
   "cell_type": "code",
   "execution_count": 94,
   "id": "6a54a4b3-47a0-4841-9c85-5ed3e19f5b51",
   "metadata": {},
   "outputs": [
    {
     "data": {
      "text/html": [
       "<div>\n",
       "<style scoped>\n",
       "    .dataframe tbody tr th:only-of-type {\n",
       "        vertical-align: middle;\n",
       "    }\n",
       "\n",
       "    .dataframe tbody tr th {\n",
       "        vertical-align: top;\n",
       "    }\n",
       "\n",
       "    .dataframe thead th {\n",
       "        text-align: right;\n",
       "    }\n",
       "</style>\n",
       "<table border=\"1\" class=\"dataframe\">\n",
       "  <thead>\n",
       "    <tr style=\"text-align: right;\">\n",
       "      <th></th>\n",
       "      <th>timestamp</th>\n",
       "      <th>latitude</th>\n",
       "      <th>longitude</th>\n",
       "      <th>weather_id</th>\n",
       "      <th>weather_main</th>\n",
       "      <th>weather_description</th>\n",
       "      <th>weather_icon</th>\n",
       "      <th>base</th>\n",
       "      <th>temp</th>\n",
       "      <th>feels_like</th>\n",
       "      <th>...</th>\n",
       "      <th>dt</th>\n",
       "      <th>sys_type</th>\n",
       "      <th>sys_id</th>\n",
       "      <th>country</th>\n",
       "      <th>sunrise</th>\n",
       "      <th>sunset</th>\n",
       "      <th>timezone</th>\n",
       "      <th>city_id</th>\n",
       "      <th>city_name</th>\n",
       "      <th>cod</th>\n",
       "    </tr>\n",
       "  </thead>\n",
       "  <tbody>\n",
       "    <tr>\n",
       "      <th>38</th>\n",
       "      <td>2024-08-12T20:29:40.819651</td>\n",
       "      <td>515.072</td>\n",
       "      <td>-0.1275</td>\n",
       "      <td>800.0</td>\n",
       "      <td>Clear</td>\n",
       "      <td>clear sky</td>\n",
       "      <td>01n</td>\n",
       "      <td>stations</td>\n",
       "      <td>17.81</td>\n",
       "      <td>17.55</td>\n",
       "      <td>...</td>\n",
       "      <td>1.723515e+09</td>\n",
       "      <td>2.0</td>\n",
       "      <td>2075535.0</td>\n",
       "      <td>GB</td>\n",
       "      <td>1.723524e+09</td>\n",
       "      <td>1.723577e+09</td>\n",
       "      <td>3600.0</td>\n",
       "      <td>2643743.0</td>\n",
       "      <td>London</td>\n",
       "      <td>200.0</td>\n",
       "    </tr>\n",
       "    <tr>\n",
       "      <th>27</th>\n",
       "      <td>2024-08-12T19:34:40.779703</td>\n",
       "      <td>515.074</td>\n",
       "      <td>-0.1278</td>\n",
       "      <td>800.0</td>\n",
       "      <td>Clear</td>\n",
       "      <td>clear sky</td>\n",
       "      <td>01n</td>\n",
       "      <td>stations</td>\n",
       "      <td>19.21</td>\n",
       "      <td>18.94</td>\n",
       "      <td>...</td>\n",
       "      <td>1.723509e+09</td>\n",
       "      <td>2.0</td>\n",
       "      <td>2075535.0</td>\n",
       "      <td>GB</td>\n",
       "      <td>1.723524e+09</td>\n",
       "      <td>1.723577e+09</td>\n",
       "      <td>3600.0</td>\n",
       "      <td>2643743.0</td>\n",
       "      <td>London</td>\n",
       "      <td>200.0</td>\n",
       "    </tr>\n",
       "    <tr>\n",
       "      <th>15</th>\n",
       "      <td>2024-08-12T18:34:40.733230</td>\n",
       "      <td>515.074</td>\n",
       "      <td>-0.1278</td>\n",
       "      <td>800.0</td>\n",
       "      <td>Clear</td>\n",
       "      <td>clear sky</td>\n",
       "      <td>01n</td>\n",
       "      <td>stations</td>\n",
       "      <td>20.40</td>\n",
       "      <td>20.17</td>\n",
       "      <td>...</td>\n",
       "      <td>1.723505e+09</td>\n",
       "      <td>2.0</td>\n",
       "      <td>2075535.0</td>\n",
       "      <td>GB</td>\n",
       "      <td>1.723524e+09</td>\n",
       "      <td>1.723577e+09</td>\n",
       "      <td>3600.0</td>\n",
       "      <td>2643743.0</td>\n",
       "      <td>London</td>\n",
       "      <td>200.0</td>\n",
       "    </tr>\n",
       "    <tr>\n",
       "      <th>94</th>\n",
       "      <td>2024-08-13T14:26:01.736989</td>\n",
       "      <td>515.074</td>\n",
       "      <td>-0.1278</td>\n",
       "      <td>801.0</td>\n",
       "      <td>Clouds</td>\n",
       "      <td>few clouds</td>\n",
       "      <td>02n</td>\n",
       "      <td>stations</td>\n",
       "      <td>20.41</td>\n",
       "      <td>20.31</td>\n",
       "      <td>...</td>\n",
       "      <td>1.723583e+09</td>\n",
       "      <td>2.0</td>\n",
       "      <td>2075535.0</td>\n",
       "      <td>GB</td>\n",
       "      <td>1.723524e+09</td>\n",
       "      <td>1.723577e+09</td>\n",
       "      <td>3600.0</td>\n",
       "      <td>2643743.0</td>\n",
       "      <td>London</td>\n",
       "      <td>200.0</td>\n",
       "    </tr>\n",
       "    <tr>\n",
       "      <th>103</th>\n",
       "      <td>2024-08-13T17:42:02.065989</td>\n",
       "      <td>515.084</td>\n",
       "      <td>-0.1254</td>\n",
       "      <td>803.0</td>\n",
       "      <td>Clouds</td>\n",
       "      <td>broken clouds</td>\n",
       "      <td>04n</td>\n",
       "      <td>stations</td>\n",
       "      <td>19.52</td>\n",
       "      <td>19.46</td>\n",
       "      <td>...</td>\n",
       "      <td>1.723588e+09</td>\n",
       "      <td>2.0</td>\n",
       "      <td>2075535.0</td>\n",
       "      <td>GB</td>\n",
       "      <td>1.723524e+09</td>\n",
       "      <td>1.723577e+09</td>\n",
       "      <td>3600.0</td>\n",
       "      <td>2643743.0</td>\n",
       "      <td>London</td>\n",
       "      <td>200.0</td>\n",
       "    </tr>\n",
       "    <tr>\n",
       "      <th>150</th>\n",
       "      <td>2024-08-13T18:29:01.959120</td>\n",
       "      <td>515.073</td>\n",
       "      <td>-0.1277</td>\n",
       "      <td>803.0</td>\n",
       "      <td>Clouds</td>\n",
       "      <td>broken clouds</td>\n",
       "      <td>04n</td>\n",
       "      <td>stations</td>\n",
       "      <td>19.40</td>\n",
       "      <td>19.33</td>\n",
       "      <td>...</td>\n",
       "      <td>1.723591e+09</td>\n",
       "      <td>2.0</td>\n",
       "      <td>2075535.0</td>\n",
       "      <td>GB</td>\n",
       "      <td>1.723611e+09</td>\n",
       "      <td>1.723664e+09</td>\n",
       "      <td>3600.0</td>\n",
       "      <td>2643743.0</td>\n",
       "      <td>London</td>\n",
       "      <td>200.0</td>\n",
       "    </tr>\n",
       "    <tr>\n",
       "      <th>6</th>\n",
       "      <td>2024-08-12T17:29:03.320146</td>\n",
       "      <td>515.074</td>\n",
       "      <td>-0.1278</td>\n",
       "      <td>800.0</td>\n",
       "      <td>Clear</td>\n",
       "      <td>clear sky</td>\n",
       "      <td>01n</td>\n",
       "      <td>stations</td>\n",
       "      <td>22.35</td>\n",
       "      <td>22.13</td>\n",
       "      <td>...</td>\n",
       "      <td>1.723502e+09</td>\n",
       "      <td>2.0</td>\n",
       "      <td>268730.0</td>\n",
       "      <td>GB</td>\n",
       "      <td>1.723438e+09</td>\n",
       "      <td>1.723491e+09</td>\n",
       "      <td>3600.0</td>\n",
       "      <td>2643743.0</td>\n",
       "      <td>London</td>\n",
       "      <td>200.0</td>\n",
       "    </tr>\n",
       "    <tr>\n",
       "      <th>29</th>\n",
       "      <td>2024-08-12T19:44:40.794635</td>\n",
       "      <td>515.074</td>\n",
       "      <td>-0.1278</td>\n",
       "      <td>800.0</td>\n",
       "      <td>Clear</td>\n",
       "      <td>clear sky</td>\n",
       "      <td>01n</td>\n",
       "      <td>stations</td>\n",
       "      <td>19.20</td>\n",
       "      <td>18.90</td>\n",
       "      <td>...</td>\n",
       "      <td>1.723510e+09</td>\n",
       "      <td>2.0</td>\n",
       "      <td>2075535.0</td>\n",
       "      <td>GB</td>\n",
       "      <td>1.723524e+09</td>\n",
       "      <td>1.723577e+09</td>\n",
       "      <td>3600.0</td>\n",
       "      <td>2643743.0</td>\n",
       "      <td>London</td>\n",
       "      <td>200.0</td>\n",
       "    </tr>\n",
       "    <tr>\n",
       "      <th>148</th>\n",
       "      <td>2024-08-13T18:27:02.448104</td>\n",
       "      <td>515.073</td>\n",
       "      <td>-0.1277</td>\n",
       "      <td>803.0</td>\n",
       "      <td>Clouds</td>\n",
       "      <td>broken clouds</td>\n",
       "      <td>04n</td>\n",
       "      <td>stations</td>\n",
       "      <td>19.40</td>\n",
       "      <td>19.33</td>\n",
       "      <td>...</td>\n",
       "      <td>1.723591e+09</td>\n",
       "      <td>2.0</td>\n",
       "      <td>2075535.0</td>\n",
       "      <td>GB</td>\n",
       "      <td>1.723611e+09</td>\n",
       "      <td>1.723664e+09</td>\n",
       "      <td>3600.0</td>\n",
       "      <td>2643743.0</td>\n",
       "      <td>London</td>\n",
       "      <td>200.0</td>\n",
       "    </tr>\n",
       "    <tr>\n",
       "      <th>112</th>\n",
       "      <td>2024-08-13T17:51:01.582441</td>\n",
       "      <td>515.074</td>\n",
       "      <td>-0.1278</td>\n",
       "      <td>803.0</td>\n",
       "      <td>Clouds</td>\n",
       "      <td>broken clouds</td>\n",
       "      <td>04n</td>\n",
       "      <td>stations</td>\n",
       "      <td>19.31</td>\n",
       "      <td>19.23</td>\n",
       "      <td>...</td>\n",
       "      <td>1.723589e+09</td>\n",
       "      <td>2.0</td>\n",
       "      <td>2075535.0</td>\n",
       "      <td>GB</td>\n",
       "      <td>1.723524e+09</td>\n",
       "      <td>1.723577e+09</td>\n",
       "      <td>3600.0</td>\n",
       "      <td>2643743.0</td>\n",
       "      <td>London</td>\n",
       "      <td>200.0</td>\n",
       "    </tr>\n",
       "  </tbody>\n",
       "</table>\n",
       "<p>10 rows × 31 columns</p>\n",
       "</div>"
      ],
      "text/plain": [
       "                      timestamp  latitude  longitude  weather_id weather_main  \\\n",
       "38   2024-08-12T20:29:40.819651   515.072    -0.1275       800.0        Clear   \n",
       "27   2024-08-12T19:34:40.779703   515.074    -0.1278       800.0        Clear   \n",
       "15   2024-08-12T18:34:40.733230   515.074    -0.1278       800.0        Clear   \n",
       "94   2024-08-13T14:26:01.736989   515.074    -0.1278       801.0       Clouds   \n",
       "103  2024-08-13T17:42:02.065989   515.084    -0.1254       803.0       Clouds   \n",
       "150  2024-08-13T18:29:01.959120   515.073    -0.1277       803.0       Clouds   \n",
       "6    2024-08-12T17:29:03.320146   515.074    -0.1278       800.0        Clear   \n",
       "29   2024-08-12T19:44:40.794635   515.074    -0.1278       800.0        Clear   \n",
       "148  2024-08-13T18:27:02.448104   515.073    -0.1277       803.0       Clouds   \n",
       "112  2024-08-13T17:51:01.582441   515.074    -0.1278       803.0       Clouds   \n",
       "\n",
       "    weather_description weather_icon      base   temp  feels_like  ...  \\\n",
       "38            clear sky          01n  stations  17.81       17.55  ...   \n",
       "27            clear sky          01n  stations  19.21       18.94  ...   \n",
       "15            clear sky          01n  stations  20.40       20.17  ...   \n",
       "94           few clouds          02n  stations  20.41       20.31  ...   \n",
       "103       broken clouds          04n  stations  19.52       19.46  ...   \n",
       "150       broken clouds          04n  stations  19.40       19.33  ...   \n",
       "6             clear sky          01n  stations  22.35       22.13  ...   \n",
       "29            clear sky          01n  stations  19.20       18.90  ...   \n",
       "148       broken clouds          04n  stations  19.40       19.33  ...   \n",
       "112       broken clouds          04n  stations  19.31       19.23  ...   \n",
       "\n",
       "               dt  sys_type     sys_id  country       sunrise        sunset  \\\n",
       "38   1.723515e+09       2.0  2075535.0       GB  1.723524e+09  1.723577e+09   \n",
       "27   1.723509e+09       2.0  2075535.0       GB  1.723524e+09  1.723577e+09   \n",
       "15   1.723505e+09       2.0  2075535.0       GB  1.723524e+09  1.723577e+09   \n",
       "94   1.723583e+09       2.0  2075535.0       GB  1.723524e+09  1.723577e+09   \n",
       "103  1.723588e+09       2.0  2075535.0       GB  1.723524e+09  1.723577e+09   \n",
       "150  1.723591e+09       2.0  2075535.0       GB  1.723611e+09  1.723664e+09   \n",
       "6    1.723502e+09       2.0   268730.0       GB  1.723438e+09  1.723491e+09   \n",
       "29   1.723510e+09       2.0  2075535.0       GB  1.723524e+09  1.723577e+09   \n",
       "148  1.723591e+09       2.0  2075535.0       GB  1.723611e+09  1.723664e+09   \n",
       "112  1.723589e+09       2.0  2075535.0       GB  1.723524e+09  1.723577e+09   \n",
       "\n",
       "     timezone    city_id  city_name    cod  \n",
       "38     3600.0  2643743.0     London  200.0  \n",
       "27     3600.0  2643743.0     London  200.0  \n",
       "15     3600.0  2643743.0     London  200.0  \n",
       "94     3600.0  2643743.0     London  200.0  \n",
       "103    3600.0  2643743.0     London  200.0  \n",
       "150    3600.0  2643743.0     London  200.0  \n",
       "6      3600.0  2643743.0     London  200.0  \n",
       "29     3600.0  2643743.0     London  200.0  \n",
       "148    3600.0  2643743.0     London  200.0  \n",
       "112    3600.0  2643743.0     London  200.0  \n",
       "\n",
       "[10 rows x 31 columns]"
      ]
     },
     "execution_count": 94,
     "metadata": {},
     "output_type": "execute_result"
    }
   ],
   "source": [
    "df.sample(10)"
   ]
  },
  {
   "cell_type": "markdown",
   "id": "c7b78457-4791-4ca8-8119-d80f8f4eded6",
   "metadata": {},
   "source": [
    "### Análisis de Datos\n",
    "- Se procede a realizar un plot de variables de interés según el tiempo capturado. La primera columna contiene la información del API sobre tiempo en formato **Timestamp**, misma que se puede convertir a **datetime**.\n",
    "- Debido al proceso utilizado para guardar los datos `dt` tiene como tipo de dato objeto por lo que es necesario convertirlo a entero. De igual manera existen otras variables capturadas que en este caso por la lectura con `with open` se detectan como object en vez de sus tipos de datos correctos\n"
   ]
  },
  {
   "cell_type": "code",
   "execution_count": 107,
   "id": "f26cfd90-e163-4b6a-9d46-c72950917ead",
   "metadata": {},
   "outputs": [
    {
     "name": "stdout",
     "output_type": "stream",
     "text": [
      "<class 'pandas.core.frame.DataFrame'>\n",
      "RangeIndex: 195 entries, 0 to 194\n",
      "Data columns (total 31 columns):\n",
      " #   Column               Non-Null Count  Dtype  \n",
      "---  ------               --------------  -----  \n",
      " 0   timestamp            195 non-null    object \n",
      " 1   latitude             193 non-null    float64\n",
      " 2   longitude            193 non-null    float64\n",
      " 3   weather_id           193 non-null    float64\n",
      " 4   weather_main         193 non-null    object \n",
      " 5   weather_description  193 non-null    object \n",
      " 6   weather_icon         193 non-null    object \n",
      " 7   base                 193 non-null    object \n",
      " 8   temp                 193 non-null    float64\n",
      " 9   feels_like           193 non-null    float64\n",
      " 10  temp_min             193 non-null    float64\n",
      " 11  temp_max             193 non-null    float64\n",
      " 12  pressure             193 non-null    float64\n",
      " 13  humidity             193 non-null    float64\n",
      " 14  sea_level            193 non-null    float64\n",
      " 15  grnd_level           193 non-null    float64\n",
      " 16  visibility           193 non-null    float64\n",
      " 17  wind_speed           193 non-null    float64\n",
      " 18  wind_deg             193 non-null    float64\n",
      " 19  wind_gust            24 non-null     float64\n",
      " 20  clouds_all           193 non-null    float64\n",
      " 21  dt                   193 non-null    float64\n",
      " 22  sys_type             193 non-null    float64\n",
      " 23  sys_id               193 non-null    float64\n",
      " 24  country              193 non-null    object \n",
      " 25  sunrise              193 non-null    float64\n",
      " 26  sunset               193 non-null    float64\n",
      " 27  timezone             193 non-null    float64\n",
      " 28  city_id              193 non-null    float64\n",
      " 29  city_name            193 non-null    object \n",
      " 30  cod                  193 non-null    float64\n",
      "dtypes: float64(24), object(7)\n",
      "memory usage: 47.4+ KB\n"
     ]
    }
   ],
   "source": [
    "df.info()"
   ]
  },
  {
   "cell_type": "code",
   "execution_count": 108,
   "id": "67325379-1ad6-40d6-a46e-9d980005837e",
   "metadata": {},
   "outputs": [
    {
     "name": "stdout",
     "output_type": "stream",
     "text": [
      "(24, 31)\n"
     ]
    }
   ],
   "source": [
    "df.dropna(inplace=True)\n",
    "print(df.shape)\n",
    "df.dt = df.dt.astype(int)\n",
    "# df.sys_sunrise = df.sys_sunrise.astype(int)\n",
    "# df.sys_sunset = df.sys_sunset.astype(int)\n",
    "# for column in df.columns:\n",
    "#     try:\n",
    "#         df[column] = pd.to_numeric(df[column])\n",
    "#     except ValueError:\n",
    "#         next"
   ]
  },
  {
   "cell_type": "code",
   "execution_count": 109,
   "id": "86a5941b-e1dc-44a8-925e-6a000d14e6bf",
   "metadata": {},
   "outputs": [
    {
     "name": "stdout",
     "output_type": "stream",
     "text": [
      "<class 'pandas.core.frame.DataFrame'>\n",
      "Index: 24 entries, 4 to 38\n",
      "Data columns (total 31 columns):\n",
      " #   Column               Non-Null Count  Dtype  \n",
      "---  ------               --------------  -----  \n",
      " 0   timestamp            24 non-null     object \n",
      " 1   latitude             24 non-null     float64\n",
      " 2   longitude            24 non-null     float64\n",
      " 3   weather_id           24 non-null     float64\n",
      " 4   weather_main         24 non-null     object \n",
      " 5   weather_description  24 non-null     object \n",
      " 6   weather_icon         24 non-null     object \n",
      " 7   base                 24 non-null     object \n",
      " 8   temp                 24 non-null     float64\n",
      " 9   feels_like           24 non-null     float64\n",
      " 10  temp_min             24 non-null     float64\n",
      " 11  temp_max             24 non-null     float64\n",
      " 12  pressure             24 non-null     float64\n",
      " 13  humidity             24 non-null     float64\n",
      " 14  sea_level            24 non-null     float64\n",
      " 15  grnd_level           24 non-null     float64\n",
      " 16  visibility           24 non-null     float64\n",
      " 17  wind_speed           24 non-null     float64\n",
      " 18  wind_deg             24 non-null     float64\n",
      " 19  wind_gust            24 non-null     float64\n",
      " 20  clouds_all           24 non-null     float64\n",
      " 21  dt                   24 non-null     int64  \n",
      " 22  sys_type             24 non-null     float64\n",
      " 23  sys_id               24 non-null     float64\n",
      " 24  country              24 non-null     object \n",
      " 25  sunrise              24 non-null     float64\n",
      " 26  sunset               24 non-null     float64\n",
      " 27  timezone             24 non-null     float64\n",
      " 28  city_id              24 non-null     float64\n",
      " 29  city_name            24 non-null     object \n",
      " 30  cod                  24 non-null     float64\n",
      "dtypes: float64(23), int64(1), object(7)\n",
      "memory usage: 6.0+ KB\n"
     ]
    }
   ],
   "source": [
    "df.info()"
   ]
  },
  {
   "cell_type": "code",
   "execution_count": 110,
   "id": "33a57a27-7d27-43a0-a73e-f57d2e545a34",
   "metadata": {},
   "outputs": [
    {
     "data": {
      "text/html": [
       "<div>\n",
       "<style scoped>\n",
       "    .dataframe tbody tr th:only-of-type {\n",
       "        vertical-align: middle;\n",
       "    }\n",
       "\n",
       "    .dataframe tbody tr th {\n",
       "        vertical-align: top;\n",
       "    }\n",
       "\n",
       "    .dataframe thead th {\n",
       "        text-align: right;\n",
       "    }\n",
       "</style>\n",
       "<table border=\"1\" class=\"dataframe\">\n",
       "  <thead>\n",
       "    <tr style=\"text-align: right;\">\n",
       "      <th></th>\n",
       "      <th>timestamp</th>\n",
       "      <th>latitude</th>\n",
       "      <th>longitude</th>\n",
       "      <th>weather_id</th>\n",
       "      <th>weather_main</th>\n",
       "      <th>weather_description</th>\n",
       "      <th>weather_icon</th>\n",
       "      <th>base</th>\n",
       "      <th>temp</th>\n",
       "      <th>feels_like</th>\n",
       "      <th>...</th>\n",
       "      <th>dt</th>\n",
       "      <th>sys_type</th>\n",
       "      <th>sys_id</th>\n",
       "      <th>country</th>\n",
       "      <th>sunrise</th>\n",
       "      <th>sunset</th>\n",
       "      <th>timezone</th>\n",
       "      <th>city_id</th>\n",
       "      <th>city_name</th>\n",
       "      <th>cod</th>\n",
       "    </tr>\n",
       "  </thead>\n",
       "  <tbody>\n",
       "    <tr>\n",
       "      <th>21</th>\n",
       "      <td>2024-08-12T19:04:40.764349</td>\n",
       "      <td>515.072</td>\n",
       "      <td>-0.1276</td>\n",
       "      <td>800.0</td>\n",
       "      <td>Clear</td>\n",
       "      <td>clear sky</td>\n",
       "      <td>01n</td>\n",
       "      <td>stations</td>\n",
       "      <td>19.82</td>\n",
       "      <td>19.61</td>\n",
       "      <td>...</td>\n",
       "      <td>2024-08-12 19:00:02</td>\n",
       "      <td>2.0</td>\n",
       "      <td>2075535.0</td>\n",
       "      <td>GB</td>\n",
       "      <td>1.723524e+09</td>\n",
       "      <td>1.723577e+09</td>\n",
       "      <td>3600.0</td>\n",
       "      <td>2643743.0</td>\n",
       "      <td>London</td>\n",
       "      <td>200.0</td>\n",
       "    </tr>\n",
       "    <tr>\n",
       "      <th>9</th>\n",
       "      <td>2024-08-12T17:57:34.345244</td>\n",
       "      <td>515.073</td>\n",
       "      <td>-0.1276</td>\n",
       "      <td>800.0</td>\n",
       "      <td>Clear</td>\n",
       "      <td>clear sky</td>\n",
       "      <td>01n</td>\n",
       "      <td>stations</td>\n",
       "      <td>21.18</td>\n",
       "      <td>20.97</td>\n",
       "      <td>...</td>\n",
       "      <td>2024-08-12 17:50:09</td>\n",
       "      <td>2.0</td>\n",
       "      <td>2075535.0</td>\n",
       "      <td>GB</td>\n",
       "      <td>1.723438e+09</td>\n",
       "      <td>1.723491e+09</td>\n",
       "      <td>3600.0</td>\n",
       "      <td>2643743.0</td>\n",
       "      <td>London</td>\n",
       "      <td>200.0</td>\n",
       "    </tr>\n",
       "    <tr>\n",
       "      <th>10</th>\n",
       "      <td>2024-08-12T17:58:20.555726</td>\n",
       "      <td>515.073</td>\n",
       "      <td>-0.1276</td>\n",
       "      <td>800.0</td>\n",
       "      <td>Clear</td>\n",
       "      <td>clear sky</td>\n",
       "      <td>01n</td>\n",
       "      <td>stations</td>\n",
       "      <td>21.18</td>\n",
       "      <td>20.97</td>\n",
       "      <td>...</td>\n",
       "      <td>2024-08-12 17:50:09</td>\n",
       "      <td>2.0</td>\n",
       "      <td>2075535.0</td>\n",
       "      <td>GB</td>\n",
       "      <td>1.723438e+09</td>\n",
       "      <td>1.723491e+09</td>\n",
       "      <td>3600.0</td>\n",
       "      <td>2643743.0</td>\n",
       "      <td>London</td>\n",
       "      <td>200.0</td>\n",
       "    </tr>\n",
       "    <tr>\n",
       "      <th>18</th>\n",
       "      <td>2024-08-12T18:49:40.741345</td>\n",
       "      <td>515.074</td>\n",
       "      <td>-0.1278</td>\n",
       "      <td>800.0</td>\n",
       "      <td>Clear</td>\n",
       "      <td>clear sky</td>\n",
       "      <td>01n</td>\n",
       "      <td>stations</td>\n",
       "      <td>19.84</td>\n",
       "      <td>19.60</td>\n",
       "      <td>...</td>\n",
       "      <td>2024-08-12 18:46:46</td>\n",
       "      <td>2.0</td>\n",
       "      <td>2075535.0</td>\n",
       "      <td>GB</td>\n",
       "      <td>1.723524e+09</td>\n",
       "      <td>1.723577e+09</td>\n",
       "      <td>3600.0</td>\n",
       "      <td>2643743.0</td>\n",
       "      <td>London</td>\n",
       "      <td>200.0</td>\n",
       "    </tr>\n",
       "    <tr>\n",
       "      <th>7</th>\n",
       "      <td>2024-08-12T17:29:23.354607</td>\n",
       "      <td>515.074</td>\n",
       "      <td>-0.1278</td>\n",
       "      <td>800.0</td>\n",
       "      <td>Clear</td>\n",
       "      <td>clear sky</td>\n",
       "      <td>01n</td>\n",
       "      <td>stations</td>\n",
       "      <td>22.35</td>\n",
       "      <td>22.13</td>\n",
       "      <td>...</td>\n",
       "      <td>2024-08-12 17:26:50</td>\n",
       "      <td>2.0</td>\n",
       "      <td>268730.0</td>\n",
       "      <td>GB</td>\n",
       "      <td>1.723438e+09</td>\n",
       "      <td>1.723491e+09</td>\n",
       "      <td>3600.0</td>\n",
       "      <td>2643743.0</td>\n",
       "      <td>London</td>\n",
       "      <td>200.0</td>\n",
       "    </tr>\n",
       "  </tbody>\n",
       "</table>\n",
       "<p>5 rows × 31 columns</p>\n",
       "</div>"
      ],
      "text/plain": [
       "                     timestamp  latitude  longitude  weather_id weather_main  \\\n",
       "21  2024-08-12T19:04:40.764349   515.072    -0.1276       800.0        Clear   \n",
       "9   2024-08-12T17:57:34.345244   515.073    -0.1276       800.0        Clear   \n",
       "10  2024-08-12T17:58:20.555726   515.073    -0.1276       800.0        Clear   \n",
       "18  2024-08-12T18:49:40.741345   515.074    -0.1278       800.0        Clear   \n",
       "7   2024-08-12T17:29:23.354607   515.074    -0.1278       800.0        Clear   \n",
       "\n",
       "   weather_description weather_icon      base   temp  feels_like  ...  \\\n",
       "21           clear sky          01n  stations  19.82       19.61  ...   \n",
       "9            clear sky          01n  stations  21.18       20.97  ...   \n",
       "10           clear sky          01n  stations  21.18       20.97  ...   \n",
       "18           clear sky          01n  stations  19.84       19.60  ...   \n",
       "7            clear sky          01n  stations  22.35       22.13  ...   \n",
       "\n",
       "                    dt  sys_type     sys_id  country       sunrise  \\\n",
       "21 2024-08-12 19:00:02       2.0  2075535.0       GB  1.723524e+09   \n",
       "9  2024-08-12 17:50:09       2.0  2075535.0       GB  1.723438e+09   \n",
       "10 2024-08-12 17:50:09       2.0  2075535.0       GB  1.723438e+09   \n",
       "18 2024-08-12 18:46:46       2.0  2075535.0       GB  1.723524e+09   \n",
       "7  2024-08-12 17:26:50       2.0   268730.0       GB  1.723438e+09   \n",
       "\n",
       "          sunset  timezone    city_id  city_name    cod  \n",
       "21  1.723577e+09    3600.0  2643743.0     London  200.0  \n",
       "9   1.723491e+09    3600.0  2643743.0     London  200.0  \n",
       "10  1.723491e+09    3600.0  2643743.0     London  200.0  \n",
       "18  1.723577e+09    3600.0  2643743.0     London  200.0  \n",
       "7   1.723491e+09    3600.0  2643743.0     London  200.0  \n",
       "\n",
       "[5 rows x 31 columns]"
      ]
     },
     "execution_count": 110,
     "metadata": {},
     "output_type": "execute_result"
    }
   ],
   "source": [
    "from datetime import datetime\n",
    "df_etl = df.copy()\n",
    "df_etl.dt = df.dt.apply(lambda x: datetime.fromtimestamp(x))\n",
    "# df_etl.sys_sunrise = df.sys_sunrise.apply(lambda x: datetime.fromtimestamp(x))\n",
    "# df_etl.sys_sunset = df.sys_sunset.apply(lambda x: datetime.fromtimestamp(x))\n",
    "df_etl.sample(5)"
   ]
  },
  {
   "cell_type": "markdown",
   "id": "ae636bdf-042d-4e05-b489-f5ebee6d5beb",
   "metadata": {},
   "source": [
    "Generalmente es de interés realizar un breve análisis estadístico de las variables del dataset"
   ]
  },
  {
   "cell_type": "code",
   "execution_count": 111,
   "id": "d57234c2-64b9-466d-91ab-9e6e16a5a9f9",
   "metadata": {},
   "outputs": [
    {
     "data": {
      "text/html": [
       "<div>\n",
       "<style scoped>\n",
       "    .dataframe tbody tr th:only-of-type {\n",
       "        vertical-align: middle;\n",
       "    }\n",
       "\n",
       "    .dataframe tbody tr th {\n",
       "        vertical-align: top;\n",
       "    }\n",
       "\n",
       "    .dataframe thead th {\n",
       "        text-align: right;\n",
       "    }\n",
       "</style>\n",
       "<table border=\"1\" class=\"dataframe\">\n",
       "  <thead>\n",
       "    <tr style=\"text-align: right;\">\n",
       "      <th></th>\n",
       "      <th>count</th>\n",
       "      <th>mean</th>\n",
       "      <th>min</th>\n",
       "      <th>25%</th>\n",
       "      <th>50%</th>\n",
       "      <th>75%</th>\n",
       "      <th>max</th>\n",
       "      <th>std</th>\n",
       "    </tr>\n",
       "  </thead>\n",
       "  <tbody>\n",
       "    <tr>\n",
       "      <th>latitude</th>\n",
       "      <td>24.0</td>\n",
       "      <td>515.074167</td>\n",
       "      <td>515.072</td>\n",
       "      <td>515.07375</td>\n",
       "      <td>515.074</td>\n",
       "      <td>515.074</td>\n",
       "      <td>515.085</td>\n",
       "      <td>0.002531</td>\n",
       "    </tr>\n",
       "    <tr>\n",
       "      <th>longitude</th>\n",
       "      <td>24.0</td>\n",
       "      <td>-0.127667</td>\n",
       "      <td>-0.128</td>\n",
       "      <td>-0.1278</td>\n",
       "      <td>-0.1278</td>\n",
       "      <td>-0.1276</td>\n",
       "      <td>-0.1257</td>\n",
       "      <td>0.000433</td>\n",
       "    </tr>\n",
       "    <tr>\n",
       "      <th>weather_id</th>\n",
       "      <td>24.0</td>\n",
       "      <td>800.0</td>\n",
       "      <td>800.0</td>\n",
       "      <td>800.0</td>\n",
       "      <td>800.0</td>\n",
       "      <td>800.0</td>\n",
       "      <td>800.0</td>\n",
       "      <td>0.0</td>\n",
       "    </tr>\n",
       "    <tr>\n",
       "      <th>temp</th>\n",
       "      <td>24.0</td>\n",
       "      <td>20.522917</td>\n",
       "      <td>17.81</td>\n",
       "      <td>19.6225</td>\n",
       "      <td>20.07</td>\n",
       "      <td>20.9925</td>\n",
       "      <td>27.79</td>\n",
       "      <td>1.91637</td>\n",
       "    </tr>\n",
       "    <tr>\n",
       "      <th>feels_like</th>\n",
       "      <td>24.0</td>\n",
       "      <td>20.354167</td>\n",
       "      <td>17.55</td>\n",
       "      <td>19.3925</td>\n",
       "      <td>19.83</td>\n",
       "      <td>20.7825</td>\n",
       "      <td>29.25</td>\n",
       "      <td>2.215691</td>\n",
       "    </tr>\n",
       "    <tr>\n",
       "      <th>temp_min</th>\n",
       "      <td>24.0</td>\n",
       "      <td>19.240417</td>\n",
       "      <td>16.12</td>\n",
       "      <td>18.63</td>\n",
       "      <td>18.9</td>\n",
       "      <td>19.59</td>\n",
       "      <td>26.12</td>\n",
       "      <td>1.798155</td>\n",
       "    </tr>\n",
       "    <tr>\n",
       "      <th>temp_max</th>\n",
       "      <td>24.0</td>\n",
       "      <td>21.412083</td>\n",
       "      <td>18.4</td>\n",
       "      <td>20.48</td>\n",
       "      <td>21.03</td>\n",
       "      <td>22.14</td>\n",
       "      <td>28.45</td>\n",
       "      <td>1.957265</td>\n",
       "    </tr>\n",
       "    <tr>\n",
       "      <th>pressure</th>\n",
       "      <td>24.0</td>\n",
       "      <td>1008.958333</td>\n",
       "      <td>1007.0</td>\n",
       "      <td>1009.0</td>\n",
       "      <td>1009.0</td>\n",
       "      <td>1009.0</td>\n",
       "      <td>1010.0</td>\n",
       "      <td>0.464306</td>\n",
       "    </tr>\n",
       "    <tr>\n",
       "      <th>humidity</th>\n",
       "      <td>24.0</td>\n",
       "      <td>64.375</td>\n",
       "      <td>57.0</td>\n",
       "      <td>62.75</td>\n",
       "      <td>65.0</td>\n",
       "      <td>67.0</td>\n",
       "      <td>73.0</td>\n",
       "      <td>3.774197</td>\n",
       "    </tr>\n",
       "    <tr>\n",
       "      <th>sea_level</th>\n",
       "      <td>24.0</td>\n",
       "      <td>1008.958333</td>\n",
       "      <td>1007.0</td>\n",
       "      <td>1009.0</td>\n",
       "      <td>1009.0</td>\n",
       "      <td>1009.0</td>\n",
       "      <td>1010.0</td>\n",
       "      <td>0.464306</td>\n",
       "    </tr>\n",
       "    <tr>\n",
       "      <th>grnd_level</th>\n",
       "      <td>24.0</td>\n",
       "      <td>1004.916667</td>\n",
       "      <td>1003.0</td>\n",
       "      <td>1005.0</td>\n",
       "      <td>1005.0</td>\n",
       "      <td>1005.0</td>\n",
       "      <td>1005.0</td>\n",
       "      <td>0.408248</td>\n",
       "    </tr>\n",
       "    <tr>\n",
       "      <th>visibility</th>\n",
       "      <td>24.0</td>\n",
       "      <td>10000.0</td>\n",
       "      <td>10000.0</td>\n",
       "      <td>10000.0</td>\n",
       "      <td>10000.0</td>\n",
       "      <td>10000.0</td>\n",
       "      <td>10000.0</td>\n",
       "      <td>0.0</td>\n",
       "    </tr>\n",
       "    <tr>\n",
       "      <th>wind_speed</th>\n",
       "      <td>24.0</td>\n",
       "      <td>0.93</td>\n",
       "      <td>0.45</td>\n",
       "      <td>0.45</td>\n",
       "      <td>0.89</td>\n",
       "      <td>0.89</td>\n",
       "      <td>4.47</td>\n",
       "      <td>0.800321</td>\n",
       "    </tr>\n",
       "    <tr>\n",
       "      <th>wind_deg</th>\n",
       "      <td>24.0</td>\n",
       "      <td>258.458333</td>\n",
       "      <td>195.0</td>\n",
       "      <td>246.5</td>\n",
       "      <td>261.0</td>\n",
       "      <td>288.0</td>\n",
       "      <td>294.0</td>\n",
       "      <td>31.295199</td>\n",
       "    </tr>\n",
       "    <tr>\n",
       "      <th>wind_gust</th>\n",
       "      <td>24.0</td>\n",
       "      <td>2.384167</td>\n",
       "      <td>1.34</td>\n",
       "      <td>1.79</td>\n",
       "      <td>2.68</td>\n",
       "      <td>2.7925</td>\n",
       "      <td>4.92</td>\n",
       "      <td>0.851004</td>\n",
       "    </tr>\n",
       "    <tr>\n",
       "      <th>clouds_all</th>\n",
       "      <td>24.0</td>\n",
       "      <td>4.5</td>\n",
       "      <td>4.0</td>\n",
       "      <td>4.0</td>\n",
       "      <td>4.0</td>\n",
       "      <td>4.25</td>\n",
       "      <td>9.0</td>\n",
       "      <td>1.179536</td>\n",
       "    </tr>\n",
       "    <tr>\n",
       "      <th>dt</th>\n",
       "      <td>24</td>\n",
       "      <td>2024-08-12 18:30:20.333333248</td>\n",
       "      <td>2024-08-12 14:29:41</td>\n",
       "      <td>2024-08-12 18:03:09.750000128</td>\n",
       "      <td>2024-08-12 18:37:40</td>\n",
       "      <td>2024-08-12 19:02:52.249999872</td>\n",
       "      <td>2024-08-12 21:13:53</td>\n",
       "      <td>NaN</td>\n",
       "    </tr>\n",
       "    <tr>\n",
       "      <th>sys_type</th>\n",
       "      <td>24.0</td>\n",
       "      <td>2.0</td>\n",
       "      <td>2.0</td>\n",
       "      <td>2.0</td>\n",
       "      <td>2.0</td>\n",
       "      <td>2.0</td>\n",
       "      <td>2.0</td>\n",
       "      <td>0.0</td>\n",
       "    </tr>\n",
       "    <tr>\n",
       "      <th>sys_id</th>\n",
       "      <td>24.0</td>\n",
       "      <td>1774400.833333</td>\n",
       "      <td>268730.0</td>\n",
       "      <td>2075535.0</td>\n",
       "      <td>2075535.0</td>\n",
       "      <td>2075535.0</td>\n",
       "      <td>2075535.0</td>\n",
       "      <td>687838.90809</td>\n",
       "    </tr>\n",
       "    <tr>\n",
       "      <th>sunrise</th>\n",
       "      <td>24.0</td>\n",
       "      <td>1723502583.208333</td>\n",
       "      <td>1723437712.0</td>\n",
       "      <td>1723502582.5</td>\n",
       "      <td>1723524207.0</td>\n",
       "      <td>1723524207.0</td>\n",
       "      <td>1723524207.0</td>\n",
       "      <td>38258.95142</td>\n",
       "    </tr>\n",
       "    <tr>\n",
       "      <th>sunset</th>\n",
       "      <td>24.0</td>\n",
       "      <td>1723555672.041667</td>\n",
       "      <td>1723490959.0</td>\n",
       "      <td>1723555672.0</td>\n",
       "      <td>1723577243.0</td>\n",
       "      <td>1723577243.0</td>\n",
       "      <td>1723577244.0</td>\n",
       "      <td>38165.669809</td>\n",
       "    </tr>\n",
       "    <tr>\n",
       "      <th>timezone</th>\n",
       "      <td>24.0</td>\n",
       "      <td>3600.0</td>\n",
       "      <td>3600.0</td>\n",
       "      <td>3600.0</td>\n",
       "      <td>3600.0</td>\n",
       "      <td>3600.0</td>\n",
       "      <td>3600.0</td>\n",
       "      <td>0.0</td>\n",
       "    </tr>\n",
       "    <tr>\n",
       "      <th>city_id</th>\n",
       "      <td>24.0</td>\n",
       "      <td>2643743.0</td>\n",
       "      <td>2643743.0</td>\n",
       "      <td>2643743.0</td>\n",
       "      <td>2643743.0</td>\n",
       "      <td>2643743.0</td>\n",
       "      <td>2643743.0</td>\n",
       "      <td>0.0</td>\n",
       "    </tr>\n",
       "    <tr>\n",
       "      <th>cod</th>\n",
       "      <td>24.0</td>\n",
       "      <td>200.0</td>\n",
       "      <td>200.0</td>\n",
       "      <td>200.0</td>\n",
       "      <td>200.0</td>\n",
       "      <td>200.0</td>\n",
       "      <td>200.0</td>\n",
       "      <td>0.0</td>\n",
       "    </tr>\n",
       "  </tbody>\n",
       "</table>\n",
       "</div>"
      ],
      "text/plain": [
       "           count                           mean                  min  \\\n",
       "latitude    24.0                     515.074167              515.072   \n",
       "longitude   24.0                      -0.127667               -0.128   \n",
       "weather_id  24.0                          800.0                800.0   \n",
       "temp        24.0                      20.522917                17.81   \n",
       "feels_like  24.0                      20.354167                17.55   \n",
       "temp_min    24.0                      19.240417                16.12   \n",
       "temp_max    24.0                      21.412083                 18.4   \n",
       "pressure    24.0                    1008.958333               1007.0   \n",
       "humidity    24.0                         64.375                 57.0   \n",
       "sea_level   24.0                    1008.958333               1007.0   \n",
       "grnd_level  24.0                    1004.916667               1003.0   \n",
       "visibility  24.0                        10000.0              10000.0   \n",
       "wind_speed  24.0                           0.93                 0.45   \n",
       "wind_deg    24.0                     258.458333                195.0   \n",
       "wind_gust   24.0                       2.384167                 1.34   \n",
       "clouds_all  24.0                            4.5                  4.0   \n",
       "dt            24  2024-08-12 18:30:20.333333248  2024-08-12 14:29:41   \n",
       "sys_type    24.0                            2.0                  2.0   \n",
       "sys_id      24.0                 1774400.833333             268730.0   \n",
       "sunrise     24.0              1723502583.208333         1723437712.0   \n",
       "sunset      24.0              1723555672.041667         1723490959.0   \n",
       "timezone    24.0                         3600.0               3600.0   \n",
       "city_id     24.0                      2643743.0            2643743.0   \n",
       "cod         24.0                          200.0                200.0   \n",
       "\n",
       "                                      25%                  50%  \\\n",
       "latitude                        515.07375              515.074   \n",
       "longitude                         -0.1278              -0.1278   \n",
       "weather_id                          800.0                800.0   \n",
       "temp                              19.6225                20.07   \n",
       "feels_like                        19.3925                19.83   \n",
       "temp_min                            18.63                 18.9   \n",
       "temp_max                            20.48                21.03   \n",
       "pressure                           1009.0               1009.0   \n",
       "humidity                            62.75                 65.0   \n",
       "sea_level                          1009.0               1009.0   \n",
       "grnd_level                         1005.0               1005.0   \n",
       "visibility                        10000.0              10000.0   \n",
       "wind_speed                           0.45                 0.89   \n",
       "wind_deg                            246.5                261.0   \n",
       "wind_gust                            1.79                 2.68   \n",
       "clouds_all                            4.0                  4.0   \n",
       "dt          2024-08-12 18:03:09.750000128  2024-08-12 18:37:40   \n",
       "sys_type                              2.0                  2.0   \n",
       "sys_id                          2075535.0            2075535.0   \n",
       "sunrise                      1723502582.5         1723524207.0   \n",
       "sunset                       1723555672.0         1723577243.0   \n",
       "timezone                           3600.0               3600.0   \n",
       "city_id                         2643743.0            2643743.0   \n",
       "cod                                 200.0                200.0   \n",
       "\n",
       "                                      75%                  max           std  \n",
       "latitude                          515.074              515.085      0.002531  \n",
       "longitude                         -0.1276              -0.1257      0.000433  \n",
       "weather_id                          800.0                800.0           0.0  \n",
       "temp                              20.9925                27.79       1.91637  \n",
       "feels_like                        20.7825                29.25      2.215691  \n",
       "temp_min                            19.59                26.12      1.798155  \n",
       "temp_max                            22.14                28.45      1.957265  \n",
       "pressure                           1009.0               1010.0      0.464306  \n",
       "humidity                             67.0                 73.0      3.774197  \n",
       "sea_level                          1009.0               1010.0      0.464306  \n",
       "grnd_level                         1005.0               1005.0      0.408248  \n",
       "visibility                        10000.0              10000.0           0.0  \n",
       "wind_speed                           0.89                 4.47      0.800321  \n",
       "wind_deg                            288.0                294.0     31.295199  \n",
       "wind_gust                          2.7925                 4.92      0.851004  \n",
       "clouds_all                           4.25                  9.0      1.179536  \n",
       "dt          2024-08-12 19:02:52.249999872  2024-08-12 21:13:53           NaN  \n",
       "sys_type                              2.0                  2.0           0.0  \n",
       "sys_id                          2075535.0            2075535.0  687838.90809  \n",
       "sunrise                      1723524207.0         1723524207.0   38258.95142  \n",
       "sunset                       1723577243.0         1723577244.0  38165.669809  \n",
       "timezone                           3600.0               3600.0           0.0  \n",
       "city_id                         2643743.0            2643743.0           0.0  \n",
       "cod                                 200.0                200.0           0.0  "
      ]
     },
     "execution_count": 111,
     "metadata": {},
     "output_type": "execute_result"
    }
   ],
   "source": [
    "df_etl.describe().transpose()"
   ]
  },
  {
   "cell_type": "code",
   "execution_count": 112,
   "id": "27fade28-37fd-475d-a070-d1893a109a44",
   "metadata": {},
   "outputs": [],
   "source": [
    "df_etl.to_csv('clima-london-hoy-etl.csv', index=False)"
   ]
  },
  {
   "cell_type": "markdown",
   "id": "2d6ad91d-07e0-469d-9ceb-0b321708f067",
   "metadata": {},
   "source": [
    "### Presentación de Resultados\n",
    "\n",
    "Se procede a realizar gráficas de interés para estudiar el comportamiento climatológico"
   ]
  },
  {
   "cell_type": "code",
   "execution_count": 113,
   "id": "059d79c2-d08e-4b33-abc9-8d8f8a93c22b",
   "metadata": {},
   "outputs": [
    {
     "data": {
      "text/plain": [
       "Text(0.5, 1.0, 'Temp vs Time in London')"
      ]
     },
     "execution_count": 113,
     "metadata": {},
     "output_type": "execute_result"
    },
    {
     "data": {
      "image/png": "[encoded data removed]",
      "text/plain": [
       "<Figure size 640x480 with 1 Axes>"
      ]
     },
     "metadata": {},
     "output_type": "display_data"
    }
   ],
   "source": [
    "import matplotlib.pyplot as plt\n",
    "df_etl.plot.line('dt', 'temp')\n",
    "plt.grid()\n",
    "plt.title(f'Temp vs Time in {next(iter(set(df_etl.city_name)))}')"
   ]
  },
  {
   "cell_type": "code",
   "execution_count": 114,
   "id": "8bf3243b-bc62-496a-b495-6cc6de15dc62",
   "metadata": {},
   "outputs": [
    {
     "data": {
      "application/vnd.plotly.v1+json": {
       "config": {
        "plotlyServerURL": "https://plot.ly"
       },
       "data": [
        {
         "hovertemplate": "variable=temp<br>dt=%{x}<br>value=%{y}<extra></extra>",
         "legendgroup": "temp",
         "line": {
          "color": "#636efa",
          "dash": "solid"
         },
         "marker": {
          "symbol": "circle"
         },
         "mode": "lines",
         "name": "temp",
         "orientation": "v",
         "showlegend": true,
         "type": "scatter",
         "x": [
          "2024-08-12T14:29:41",
          "2024-08-12T17:26:50",
          "2024-08-12T17:26:50",
          "2024-08-12T17:26:50",
          "2024-08-12T17:50:09",
          "2024-08-12T17:50:09",
          "2024-08-12T18:14:32",
          "2024-08-12T18:07:30",
          "2024-08-12T18:22:39",
          "2024-08-12T18:22:39",
          "2024-08-12T18:22:39",
          "2024-08-12T18:37:40",
          "2024-08-12T18:37:40",
          "2024-08-12T18:46:46",
          "2024-08-12T18:46:46",
          "2024-08-12T18:46:46",
          "2024-08-12T19:00:02",
          "2024-08-12T19:00:28",
          "2024-08-12T19:10:05",
          "2024-08-12T19:12:56",
          "2024-08-12T19:23:20",
          "2024-08-12T19:23:20",
          "2024-08-12T20:07:58",
          "2024-08-12T21:13:53"
         ],
         "xaxis": "x",
         "y": [
          27.79,
          22.35,
          22.35,
          22.35,
          21.18,
          21.18,
          20.63,
          20.93,
          20.4,
          20.4,
          20.4,
          20.07,
          20.07,
          19.84,
          19.84,
          19.84,
          19.82,
          19.72,
          19.33,
          19.29,
          19.18,
          19.18,
          18.6,
          17.81
         ],
         "yaxis": "y"
        },
        {
         "hovertemplate": "variable=pressure<br>dt=%{x}<br>value=%{y}<extra></extra>",
         "legendgroup": "pressure",
         "line": {
          "color": "#EF553B",
          "dash": "solid"
         },
         "marker": {
          "symbol": "circle"
         },
         "mode": "lines",
         "name": "pressure",
         "orientation": "v",
         "showlegend": true,
         "type": "scatter",
         "x": [
          "2024-08-12T14:29:41",
          "2024-08-12T17:26:50",
          "2024-08-12T17:26:50",
          "2024-08-12T17:26:50",
          "2024-08-12T17:50:09",
          "2024-08-12T17:50:09",
          "2024-08-12T18:14:32",
          "2024-08-12T18:07:30",
          "2024-08-12T18:22:39",
          "2024-08-12T18:22:39",
          "2024-08-12T18:22:39",
          "2024-08-12T18:37:40",
          "2024-08-12T18:37:40",
          "2024-08-12T18:46:46",
          "2024-08-12T18:46:46",
          "2024-08-12T18:46:46",
          "2024-08-12T19:00:02",
          "2024-08-12T19:00:28",
          "2024-08-12T19:10:05",
          "2024-08-12T19:12:56",
          "2024-08-12T19:23:20",
          "2024-08-12T19:23:20",
          "2024-08-12T20:07:58",
          "2024-08-12T21:13:53"
         ],
         "xaxis": "x",
         "y": [
          1007,
          1009,
          1009,
          1009,
          1009,
          1009,
          1009,
          1009,
          1009,
          1009,
          1009,
          1009,
          1009,
          1009,
          1009,
          1009,
          1009,
          1009,
          1009,
          1009,
          1009,
          1009,
          1009,
          1010
         ],
         "yaxis": "y"
        }
       ],
       "layout": {
        "autosize": true,
        "legend": {
         "title": {
          "text": "variable"
         },
         "tracegroupgap": 0
        },
        "template": {
         "data": {
          "bar": [
           {
            "error_x": {
             "color": "#2a3f5f"
            },
            "error_y": {
             "color": "#2a3f5f"
            },
            "marker": {
             "line": {
              "color": "#E5ECF6",
              "width": 0.5
             },
             "pattern": {
              "fillmode": "overlay",
              "size": 10,
              "solidity": 0.2
             }
            },
            "type": "bar"
           }
          ],
          "barpolar": [
           {
            "marker": {
             "line": {
              "color": "#E5ECF6",
              "width": 0.5
             },
             "pattern": {
              "fillmode": "overlay",
              "size": 10,
              "solidity": 0.2
             }
            },
            "type": "barpolar"
           }
          ],
          "carpet": [
           {
            "aaxis": {
             "endlinecolor": "#2a3f5f",
             "gridcolor": "white",
             "linecolor": "white",
             "minorgridcolor": "white",
             "startlinecolor": "#2a3f5f"
            },
            "baxis": {
             "endlinecolor": "#2a3f5f",
             "gridcolor": "white",
             "linecolor": "white",
             "minorgridcolor": "white",
             "startlinecolor": "#2a3f5f"
            },
            "type": "carpet"
           }
          ],
          "choropleth": [
           {
            "colorbar": {
             "outlinewidth": 0,
             "ticks": ""
            },
            "type": "choropleth"
           }
          ],
          "contour": [
           {
            "colorbar": {
             "outlinewidth": 0,
             "ticks": ""
            },
            "colorscale": [
             [
              0,
              "#0d0887"
             ],
             [
              0.1111111111111111,
              "#46039f"
             ],
             [
              0.2222222222222222,
              "#7201a8"
             ],
             [
              0.3333333333333333,
              "#9c179e"
             ],
             [
              0.4444444444444444,
              "#bd3786"
             ],
             [
              0.5555555555555556,
              "#d8576b"
             ],
             [
              0.6666666666666666,
              "#ed7953"
             ],
             [
              0.7777777777777778,
              "#fb9f3a"
             ],
             [
              0.8888888888888888,
              "#fdca26"
             ],
             [
              1,
              "#f0f921"
             ]
            ],
            "type": "contour"
           }
          ],
          "contourcarpet": [
           {
            "colorbar": {
             "outlinewidth": 0,
             "ticks": ""
            },
            "type": "contourcarpet"
           }
          ],
          "heatmap": [
           {
            "colorbar": {
             "outlinewidth": 0,
             "ticks": ""
            },
            "colorscale": [
             [
              0,
              "#0d0887"
             ],
             [
              0.1111111111111111,
              "#46039f"
             ],
             [
              0.2222222222222222,
              "#7201a8"
             ],
             [
              0.3333333333333333,
              "#9c179e"
             ],
             [
              0.4444444444444444,
              "#bd3786"
             ],
             [
              0.5555555555555556,
              "#d8576b"
             ],
             [
              0.6666666666666666,
              "#ed7953"
             ],
             [
              0.7777777777777778,
              "#fb9f3a"
             ],
             [
              0.8888888888888888,
              "#fdca26"
             ],
             [
              1,
              "#f0f921"
             ]
            ],
            "type": "heatmap"
           }
          ],
          "heatmapgl": [
           {
            "colorbar": {
             "outlinewidth": 0,
             "ticks": ""
            },
            "colorscale": [
             [
              0,
              "#0d0887"
             ],
             [
              0.1111111111111111,
              "#46039f"
             ],
             [
              0.2222222222222222,
              "#7201a8"
             ],
             [
              0.3333333333333333,
              "#9c179e"
             ],
             [
              0.4444444444444444,
              "#bd3786"
             ],
             [
              0.5555555555555556,
              "#d8576b"
             ],
             [
              0.6666666666666666,
              "#ed7953"
             ],
             [
              0.7777777777777778,
              "#fb9f3a"
             ],
             [
              0.8888888888888888,
              "#fdca26"
             ],
             [
              1,
              "#f0f921"
             ]
            ],
            "type": "heatmapgl"
           }
          ],
          "histogram": [
           {
            "marker": {
             "pattern": {
              "fillmode": "overlay",
              "size": 10,
              "solidity": 0.2
             }
            },
            "type": "histogram"
           }
          ],
          "histogram2d": [
           {
            "colorbar": {
             "outlinewidth": 0,
             "ticks": ""
            },
            "colorscale": [
             [
              0,
              "#0d0887"
             ],
             [
              0.1111111111111111,
              "#46039f"
             ],
             [
              0.2222222222222222,
              "#7201a8"
             ],
             [
              0.3333333333333333,
              "#9c179e"
             ],
             [
              0.4444444444444444,
              "#bd3786"
             ],
             [
              0.5555555555555556,
              "#d8576b"
             ],
             [
              0.6666666666666666,
              "#ed7953"
             ],
             [
              0.7777777777777778,
              "#fb9f3a"
             ],
             [
              0.8888888888888888,
              "#fdca26"
             ],
             [
              1,
              "#f0f921"
             ]
            ],
            "type": "histogram2d"
           }
          ],
          "histogram2dcontour": [
           {
            "colorbar": {
             "outlinewidth": 0,
             "ticks": ""
            },
            "colorscale": [
             [
              0,
              "#0d0887"
             ],
             [
              0.1111111111111111,
              "#46039f"
             ],
             [
              0.2222222222222222,
              "#7201a8"
             ],
             [
              0.3333333333333333,
              "#9c179e"
             ],
             [
              0.4444444444444444,
              "#bd3786"
             ],
             [
              0.5555555555555556,
              "#d8576b"
             ],
             [
              0.6666666666666666,
              "#ed7953"
             ],
             [
              0.7777777777777778,
              "#fb9f3a"
             ],
             [
              0.8888888888888888,
              "#fdca26"
             ],
             [
              1,
              "#f0f921"
             ]
            ],
            "type": "histogram2dcontour"
           }
          ],
          "mesh3d": [
           {
            "colorbar": {
             "outlinewidth": 0,
             "ticks": ""
            },
            "type": "mesh3d"
           }
          ],
          "parcoords": [
           {
            "line": {
             "colorbar": {
              "outlinewidth": 0,
              "ticks": ""
             }
            },
            "type": "parcoords"
           }
          ],
          "pie": [
           {
            "automargin": true,
            "type": "pie"
           }
          ],
          "scatter": [
           {
            "fillpattern": {
             "fillmode": "overlay",
             "size": 10,
             "solidity": 0.2
            },
            "type": "scatter"
           }
          ],
          "scatter3d": [
           {
            "line": {
             "colorbar": {
              "outlinewidth": 0,
              "ticks": ""
             }
            },
            "marker": {
             "colorbar": {
              "outlinewidth": 0,
              "ticks": ""
             }
            },
            "type": "scatter3d"
           }
          ],
          "scattercarpet": [
           {
            "marker": {
             "colorbar": {
              "outlinewidth": 0,
              "ticks": ""
             }
            },
            "type": "scattercarpet"
           }
          ],
          "scattergeo": [
           {
            "marker": {
             "colorbar": {
              "outlinewidth": 0,
              "ticks": ""
             }
            },
            "type": "scattergeo"
           }
          ],
          "scattergl": [
           {
            "marker": {
             "colorbar": {
              "outlinewidth": 0,
              "ticks": ""
             }
            },
            "type": "scattergl"
           }
          ],
          "scattermapbox": [
           {
            "marker": {
             "colorbar": {
              "outlinewidth": 0,
              "ticks": ""
             }
            },
            "type": "scattermapbox"
           }
          ],
          "scatterpolar": [
           {
            "marker": {
             "colorbar": {
              "outlinewidth": 0,
              "ticks": ""
             }
            },
            "type": "scatterpolar"
           }
          ],
          "scatterpolargl": [
           {
            "marker": {
             "colorbar": {
              "outlinewidth": 0,
              "ticks": ""
             }
            },
            "type": "scatterpolargl"
           }
          ],
          "scatterternary": [
           {
            "marker": {
             "colorbar": {
              "outlinewidth": 0,
              "ticks": ""
             }
            },
            "type": "scatterternary"
           }
          ],
          "surface": [
           {
            "colorbar": {
             "outlinewidth": 0,
             "ticks": ""
            },
            "colorscale": [
             [
              0,
              "#0d0887"
             ],
             [
              0.1111111111111111,
              "#46039f"
             ],
             [
              0.2222222222222222,
              "#7201a8"
             ],
             [
              0.3333333333333333,
              "#9c179e"
             ],
             [
              0.4444444444444444,
              "#bd3786"
             ],
             [
              0.5555555555555556,
              "#d8576b"
             ],
             [
              0.6666666666666666,
              "#ed7953"
             ],
             [
              0.7777777777777778,
              "#fb9f3a"
             ],
             [
              0.8888888888888888,
              "#fdca26"
             ],
             [
              1,
              "#f0f921"
             ]
            ],
            "type": "surface"
           }
          ],
          "table": [
           {
            "cells": {
             "fill": {
              "color": "#EBF0F8"
             },
             "line": {
              "color": "white"
             }
            },
            "header": {
             "fill": {
              "color": "#C8D4E3"
             },
             "line": {
              "color": "white"
             }
            },
            "type": "table"
           }
          ]
         },
         "layout": {
          "annotationdefaults": {
           "arrowcolor": "#2a3f5f",
           "arrowhead": 0,
           "arrowwidth": 1
          },
          "autotypenumbers": "strict",
          "coloraxis": {
           "colorbar": {
            "outlinewidth": 0,
            "ticks": ""
           }
          },
          "colorscale": {
           "diverging": [
            [
             0,
             "#8e0152"
            ],
            [
             0.1,
             "#c51b7d"
            ],
            [
             0.2,
             "#de77ae"
            ],
            [
             0.3,
             "#f1b6da"
            ],
            [
             0.4,
             "#fde0ef"
            ],
            [
             0.5,
             "#f7f7f7"
            ],
            [
             0.6,
             "#e6f5d0"
            ],
            [
             0.7,
             "#b8e186"
            ],
            [
             0.8,
             "#7fbc41"
            ],
            [
             0.9,
             "#4d9221"
            ],
            [
             1,
             "#276419"
            ]
           ],
           "sequential": [
            [
             0,
             "#0d0887"
            ],
            [
             0.1111111111111111,
             "#46039f"
            ],
            [
             0.2222222222222222,
             "#7201a8"
            ],
            [
             0.3333333333333333,
             "#9c179e"
            ],
            [
             0.4444444444444444,
             "#bd3786"
            ],
            [
             0.5555555555555556,
             "#d8576b"
            ],
            [
             0.6666666666666666,
             "#ed7953"
            ],
            [
             0.7777777777777778,
             "#fb9f3a"
            ],
            [
             0.8888888888888888,
             "#fdca26"
            ],
            [
             1,
             "#f0f921"
            ]
           ],
           "sequentialminus": [
            [
             0,
             "#0d0887"
            ],
            [
             0.1111111111111111,
             "#46039f"
            ],
            [
             0.2222222222222222,
             "#7201a8"
            ],
            [
             0.3333333333333333,
             "#9c179e"
            ],
            [
             0.4444444444444444,
             "#bd3786"
            ],
            [
             0.5555555555555556,
             "#d8576b"
            ],
            [
             0.6666666666666666,
             "#ed7953"
            ],
            [
             0.7777777777777778,
             "#fb9f3a"
            ],
            [
             0.8888888888888888,
             "#fdca26"
            ],
            [
             1,
             "#f0f921"
            ]
           ]
          },
          "colorway": [
           "#636efa",
           "#EF553B",
           "#00cc96",
           "#ab63fa",
           "#FFA15A",
           "#19d3f3",
           "#FF6692",
           "#B6E880",
           "#FF97FF",
           "#FECB52"
          ],
          "font": {
           "color": "#2a3f5f"
          },
          "geo": {
           "bgcolor": "white",
           "lakecolor": "white",
           "landcolor": "#E5ECF6",
           "showlakes": true,
           "showland": true,
           "subunitcolor": "white"
          },
          "hoverlabel": {
           "align": "left"
          },
          "hovermode": "closest",
          "mapbox": {
           "style": "light"
          },
          "paper_bgcolor": "white",
          "plot_bgcolor": "#E5ECF6",
          "polar": {
           "angularaxis": {
            "gridcolor": "white",
            "linecolor": "white",
            "ticks": ""
           },
           "bgcolor": "#E5ECF6",
           "radialaxis": {
            "gridcolor": "white",
            "linecolor": "white",
            "ticks": ""
           }
          },
          "scene": {
           "xaxis": {
            "backgroundcolor": "#E5ECF6",
            "gridcolor": "white",
            "gridwidth": 2,
            "linecolor": "white",
            "showbackground": true,
            "ticks": "",
            "zerolinecolor": "white"
           },
           "yaxis": {
            "backgroundcolor": "#E5ECF6",
            "gridcolor": "white",
            "gridwidth": 2,
            "linecolor": "white",
            "showbackground": true,
            "ticks": "",
            "zerolinecolor": "white"
           },
           "zaxis": {
            "backgroundcolor": "#E5ECF6",
            "gridcolor": "white",
            "gridwidth": 2,
            "linecolor": "white",
            "showbackground": true,
            "ticks": "",
            "zerolinecolor": "white"
           }
          },
          "shapedefaults": {
           "line": {
            "color": "#2a3f5f"
           }
          },
          "ternary": {
           "aaxis": {
            "gridcolor": "white",
            "linecolor": "white",
            "ticks": ""
           },
           "baxis": {
            "gridcolor": "white",
            "linecolor": "white",
            "ticks": ""
           },
           "bgcolor": "#E5ECF6",
           "caxis": {
            "gridcolor": "white",
            "linecolor": "white",
            "ticks": ""
           }
          },
          "title": {
           "x": 0.05
          },
          "xaxis": {
           "automargin": true,
           "gridcolor": "white",
           "linecolor": "white",
           "ticks": "",
           "title": {
            "standoff": 15
           },
           "zerolinecolor": "white",
           "zerolinewidth": 2
          },
          "yaxis": {
           "automargin": true,
           "gridcolor": "white",
           "linecolor": "white",
           "ticks": "",
           "title": {
            "standoff": 15
           },
           "zerolinecolor": "white",
           "zerolinewidth": 2
          }
         }
        },
        "title": {
         "text": "Temp & Pressure vs Time in London"
        },
        "xaxis": {
         "anchor": "y",
         "autorange": true,
         "domain": [
          0,
          1
         ],
         "range": [
          "2024-08-12 14:29:41",
          "2024-08-12 21:13:53"
         ],
         "title": {
          "text": "dt"
         },
         "type": "date"
        },
        "yaxis": {
         "anchor": "x",
         "autorange": true,
         "domain": [
          0,
          1
         ],
         "range": [
          -37.31166666666667,
          1065.1216666666667
         ],
         "title": {
          "text": "value"
         },
         "type": "linear"
        }
       }
      },
      "image/png": "[encoded data removed]",
      "text/html": [
       "<div>                            <div id=\"592afffc-61e4-4f3e-8ede-cb8510cef438\" class=\"plotly-graph-div\" style=\"height:525px; width:100%;\"></div>            <script type=\"text/javascript\">                require([\"plotly\"], function(Plotly) {                    window.PLOTLYENV=window.PLOTLYENV || {};                                    if (document.getElementById(\"592afffc-61e4-4f3e-8ede-cb8510cef438\")) {                    Plotly.newPlot(                        \"592afffc-61e4-4f3e-8ede-cb8510cef438\",                        [{\"hovertemplate\":\"variable=temp\\u003cbr\\u003edt=%{x}\\u003cbr\\u003evalue=%{y}\\u003cextra\\u003e\\u003c\\u002fextra\\u003e\",\"legendgroup\":\"temp\",\"line\":{\"color\":\"#636efa\",\"dash\":\"solid\"},\"marker\":{\"symbol\":\"circle\"},\"mode\":\"lines\",\"name\":\"temp\",\"orientation\":\"v\",\"showlegend\":true,\"x\":[\"2024-08-12T14:29:41\",\"2024-08-12T17:26:50\",\"2024-08-12T17:26:50\",\"2024-08-12T17:26:50\",\"2024-08-12T17:50:09\",\"2024-08-12T17:50:09\",\"2024-08-12T18:14:32\",\"2024-08-12T18:07:30\",\"2024-08-12T18:22:39\",\"2024-08-12T18:22:39\",\"2024-08-12T18:22:39\",\"2024-08-12T18:37:40\",\"2024-08-12T18:37:40\",\"2024-08-12T18:46:46\",\"2024-08-12T18:46:46\",\"2024-08-12T18:46:46\",\"2024-08-12T19:00:02\",\"2024-08-12T19:00:28\",\"2024-08-12T19:10:05\",\"2024-08-12T19:12:56\",\"2024-08-12T19:23:20\",\"2024-08-12T19:23:20\",\"2024-08-12T20:07:58\",\"2024-08-12T21:13:53\"],\"xaxis\":\"x\",\"y\":[27.79,22.35,22.35,22.35,21.18,21.18,20.63,20.93,20.4,20.4,20.4,20.07,20.07,19.84,19.84,19.84,19.82,19.72,19.33,19.29,19.18,19.18,18.6,17.81],\"yaxis\":\"y\",\"type\":\"scatter\"},{\"hovertemplate\":\"variable=pressure\\u003cbr\\u003edt=%{x}\\u003cbr\\u003evalue=%{y}\\u003cextra\\u003e\\u003c\\u002fextra\\u003e\",\"legendgroup\":\"pressure\",\"line\":{\"color\":\"#EF553B\",\"dash\":\"solid\"},\"marker\":{\"symbol\":\"circle\"},\"mode\":\"lines\",\"name\":\"pressure\",\"orientation\":\"v\",\"showlegend\":true,\"x\":[\"2024-08-12T14:29:41\",\"2024-08-12T17:26:50\",\"2024-08-12T17:26:50\",\"2024-08-12T17:26:50\",\"2024-08-12T17:50:09\",\"2024-08-12T17:50:09\",\"2024-08-12T18:14:32\",\"2024-08-12T18:07:30\",\"2024-08-12T18:22:39\",\"2024-08-12T18:22:39\",\"2024-08-12T18:22:39\",\"2024-08-12T18:37:40\",\"2024-08-12T18:37:40\",\"2024-08-12T18:46:46\",\"2024-08-12T18:46:46\",\"2024-08-12T18:46:46\",\"2024-08-12T19:00:02\",\"2024-08-12T19:00:28\",\"2024-08-12T19:10:05\",\"2024-08-12T19:12:56\",\"2024-08-12T19:23:20\",\"2024-08-12T19:23:20\",\"2024-08-12T20:07:58\",\"2024-08-12T21:13:53\"],\"xaxis\":\"x\",\"y\":[1007.0,1009.0,1009.0,1009.0,1009.0,1009.0,1009.0,1009.0,1009.0,1009.0,1009.0,1009.0,1009.0,1009.0,1009.0,1009.0,1009.0,1009.0,1009.0,1009.0,1009.0,1009.0,1009.0,1010.0],\"yaxis\":\"y\",\"type\":\"scatter\"}],                        {\"template\":{\"data\":{\"histogram2dcontour\":[{\"type\":\"histogram2dcontour\",\"colorbar\":{\"outlinewidth\":0,\"ticks\":\"\"},\"colorscale\":[[0.0,\"#0d0887\"],[0.1111111111111111,\"#46039f\"],[0.2222222222222222,\"#7201a8\"],[0.3333333333333333,\"#9c179e\"],[0.4444444444444444,\"#bd3786\"],[0.5555555555555556,\"#d8576b\"],[0.6666666666666666,\"#ed7953\"],[0.7777777777777778,\"#fb9f3a\"],[0.8888888888888888,\"#fdca26\"],[1.0,\"#f0f921\"]]}],\"choropleth\":[{\"type\":\"choropleth\",\"colorbar\":{\"outlinewidth\":0,\"ticks\":\"\"}}],\"histogram2d\":[{\"type\":\"histogram2d\",\"colorbar\":{\"outlinewidth\":0,\"ticks\":\"\"},\"colorscale\":[[0.0,\"#0d0887\"],[0.1111111111111111,\"#46039f\"],[0.2222222222222222,\"#7201a8\"],[0.3333333333333333,\"#9c179e\"],[0.4444444444444444,\"#bd3786\"],[0.5555555555555556,\"#d8576b\"],[0.6666666666666666,\"#ed7953\"],[0.7777777777777778,\"#fb9f3a\"],[0.8888888888888888,\"#fdca26\"],[1.0,\"#f0f921\"]]}],\"heatmap\":[{\"type\":\"heatmap\",\"colorbar\":{\"outlinewidth\":0,\"ticks\":\"\"},\"colorscale\":[[0.0,\"#0d0887\"],[0.1111111111111111,\"#46039f\"],[0.2222222222222222,\"#7201a8\"],[0.3333333333333333,\"#9c179e\"],[0.4444444444444444,\"#bd3786\"],[0.5555555555555556,\"#d8576b\"],[0.6666666666666666,\"#ed7953\"],[0.7777777777777778,\"#fb9f3a\"],[0.8888888888888888,\"#fdca26\"],[1.0,\"#f0f921\"]]}],\"heatmapgl\":[{\"type\":\"heatmapgl\",\"colorbar\":{\"outlinewidth\":0,\"ticks\":\"\"},\"colorscale\":[[0.0,\"#0d0887\"],[0.1111111111111111,\"#46039f\"],[0.2222222222222222,\"#7201a8\"],[0.3333333333333333,\"#9c179e\"],[0.4444444444444444,\"#bd3786\"],[0.5555555555555556,\"#d8576b\"],[0.6666666666666666,\"#ed7953\"],[0.7777777777777778,\"#fb9f3a\"],[0.8888888888888888,\"#fdca26\"],[1.0,\"#f0f921\"]]}],\"contourcarpet\":[{\"type\":\"contourcarpet\",\"colorbar\":{\"outlinewidth\":0,\"ticks\":\"\"}}],\"contour\":[{\"type\":\"contour\",\"colorbar\":{\"outlinewidth\":0,\"ticks\":\"\"},\"colorscale\":[[0.0,\"#0d0887\"],[0.1111111111111111,\"#46039f\"],[0.2222222222222222,\"#7201a8\"],[0.3333333333333333,\"#9c179e\"],[0.4444444444444444,\"#bd3786\"],[0.5555555555555556,\"#d8576b\"],[0.6666666666666666,\"#ed7953\"],[0.7777777777777778,\"#fb9f3a\"],[0.8888888888888888,\"#fdca26\"],[1.0,\"#f0f921\"]]}],\"surface\":[{\"type\":\"surface\",\"colorbar\":{\"outlinewidth\":0,\"ticks\":\"\"},\"colorscale\":[[0.0,\"#0d0887\"],[0.1111111111111111,\"#46039f\"],[0.2222222222222222,\"#7201a8\"],[0.3333333333333333,\"#9c179e\"],[0.4444444444444444,\"#bd3786\"],[0.5555555555555556,\"#d8576b\"],[0.6666666666666666,\"#ed7953\"],[0.7777777777777778,\"#fb9f3a\"],[0.8888888888888888,\"#fdca26\"],[1.0,\"#f0f921\"]]}],\"mesh3d\":[{\"type\":\"mesh3d\",\"colorbar\":{\"outlinewidth\":0,\"ticks\":\"\"}}],\"scatter\":[{\"fillpattern\":{\"fillmode\":\"overlay\",\"size\":10,\"solidity\":0.2},\"type\":\"scatter\"}],\"parcoords\":[{\"type\":\"parcoords\",\"line\":{\"colorbar\":{\"outlinewidth\":0,\"ticks\":\"\"}}}],\"scatterpolargl\":[{\"type\":\"scatterpolargl\",\"marker\":{\"colorbar\":{\"outlinewidth\":0,\"ticks\":\"\"}}}],\"bar\":[{\"error_x\":{\"color\":\"#2a3f5f\"},\"error_y\":{\"color\":\"#2a3f5f\"},\"marker\":{\"line\":{\"color\":\"#E5ECF6\",\"width\":0.5},\"pattern\":{\"fillmode\":\"overlay\",\"size\":10,\"solidity\":0.2}},\"type\":\"bar\"}],\"scattergeo\":[{\"type\":\"scattergeo\",\"marker\":{\"colorbar\":{\"outlinewidth\":0,\"ticks\":\"\"}}}],\"scatterpolar\":[{\"type\":\"scatterpolar\",\"marker\":{\"colorbar\":{\"outlinewidth\":0,\"ticks\":\"\"}}}],\"histogram\":[{\"marker\":{\"pattern\":{\"fillmode\":\"overlay\",\"size\":10,\"solidity\":0.2}},\"type\":\"histogram\"}],\"scattergl\":[{\"type\":\"scattergl\",\"marker\":{\"colorbar\":{\"outlinewidth\":0,\"ticks\":\"\"}}}],\"scatter3d\":[{\"type\":\"scatter3d\",\"line\":{\"colorbar\":{\"outlinewidth\":0,\"ticks\":\"\"}},\"marker\":{\"colorbar\":{\"outlinewidth\":0,\"ticks\":\"\"}}}],\"scattermapbox\":[{\"type\":\"scattermapbox\",\"marker\":{\"colorbar\":{\"outlinewidth\":0,\"ticks\":\"\"}}}],\"scatterternary\":[{\"type\":\"scatterternary\",\"marker\":{\"colorbar\":{\"outlinewidth\":0,\"ticks\":\"\"}}}],\"scattercarpet\":[{\"type\":\"scattercarpet\",\"marker\":{\"colorbar\":{\"outlinewidth\":0,\"ticks\":\"\"}}}],\"carpet\":[{\"aaxis\":{\"endlinecolor\":\"#2a3f5f\",\"gridcolor\":\"white\",\"linecolor\":\"white\",\"minorgridcolor\":\"white\",\"startlinecolor\":\"#2a3f5f\"},\"baxis\":{\"endlinecolor\":\"#2a3f5f\",\"gridcolor\":\"white\",\"linecolor\":\"white\",\"minorgridcolor\":\"white\",\"startlinecolor\":\"#2a3f5f\"},\"type\":\"carpet\"}],\"table\":[{\"cells\":{\"fill\":{\"color\":\"#EBF0F8\"},\"line\":{\"color\":\"white\"}},\"header\":{\"fill\":{\"color\":\"#C8D4E3\"},\"line\":{\"color\":\"white\"}},\"type\":\"table\"}],\"barpolar\":[{\"marker\":{\"line\":{\"color\":\"#E5ECF6\",\"width\":0.5},\"pattern\":{\"fillmode\":\"overlay\",\"size\":10,\"solidity\":0.2}},\"type\":\"barpolar\"}],\"pie\":[{\"automargin\":true,\"type\":\"pie\"}]},\"layout\":{\"autotypenumbers\":\"strict\",\"colorway\":[\"#636efa\",\"#EF553B\",\"#00cc96\",\"#ab63fa\",\"#FFA15A\",\"#19d3f3\",\"#FF6692\",\"#B6E880\",\"#FF97FF\",\"#FECB52\"],\"font\":{\"color\":\"#2a3f5f\"},\"hovermode\":\"closest\",\"hoverlabel\":{\"align\":\"left\"},\"paper_bgcolor\":\"white\",\"plot_bgcolor\":\"#E5ECF6\",\"polar\":{\"bgcolor\":\"#E5ECF6\",\"angularaxis\":{\"gridcolor\":\"white\",\"linecolor\":\"white\",\"ticks\":\"\"},\"radialaxis\":{\"gridcolor\":\"white\",\"linecolor\":\"white\",\"ticks\":\"\"}},\"ternary\":{\"bgcolor\":\"#E5ECF6\",\"aaxis\":{\"gridcolor\":\"white\",\"linecolor\":\"white\",\"ticks\":\"\"},\"baxis\":{\"gridcolor\":\"white\",\"linecolor\":\"white\",\"ticks\":\"\"},\"caxis\":{\"gridcolor\":\"white\",\"linecolor\":\"white\",\"ticks\":\"\"}},\"coloraxis\":{\"colorbar\":{\"outlinewidth\":0,\"ticks\":\"\"}},\"colorscale\":{\"sequential\":[[0.0,\"#0d0887\"],[0.1111111111111111,\"#46039f\"],[0.2222222222222222,\"#7201a8\"],[0.3333333333333333,\"#9c179e\"],[0.4444444444444444,\"#bd3786\"],[0.5555555555555556,\"#d8576b\"],[0.6666666666666666,\"#ed7953\"],[0.7777777777777778,\"#fb9f3a\"],[0.8888888888888888,\"#fdca26\"],[1.0,\"#f0f921\"]],\"sequentialminus\":[[0.0,\"#0d0887\"],[0.1111111111111111,\"#46039f\"],[0.2222222222222222,\"#7201a8\"],[0.3333333333333333,\"#9c179e\"],[0.4444444444444444,\"#bd3786\"],[0.5555555555555556,\"#d8576b\"],[0.6666666666666666,\"#ed7953\"],[0.7777777777777778,\"#fb9f3a\"],[0.8888888888888888,\"#fdca26\"],[1.0,\"#f0f921\"]],\"diverging\":[[0,\"#8e0152\"],[0.1,\"#c51b7d\"],[0.2,\"#de77ae\"],[0.3,\"#f1b6da\"],[0.4,\"#fde0ef\"],[0.5,\"#f7f7f7\"],[0.6,\"#e6f5d0\"],[0.7,\"#b8e186\"],[0.8,\"#7fbc41\"],[0.9,\"#4d9221\"],[1,\"#276419\"]]},\"xaxis\":{\"gridcolor\":\"white\",\"linecolor\":\"white\",\"ticks\":\"\",\"title\":{\"standoff\":15},\"zerolinecolor\":\"white\",\"automargin\":true,\"zerolinewidth\":2},\"yaxis\":{\"gridcolor\":\"white\",\"linecolor\":\"white\",\"ticks\":\"\",\"title\":{\"standoff\":15},\"zerolinecolor\":\"white\",\"automargin\":true,\"zerolinewidth\":2},\"scene\":{\"xaxis\":{\"backgroundcolor\":\"#E5ECF6\",\"gridcolor\":\"white\",\"linecolor\":\"white\",\"showbackground\":true,\"ticks\":\"\",\"zerolinecolor\":\"white\",\"gridwidth\":2},\"yaxis\":{\"backgroundcolor\":\"#E5ECF6\",\"gridcolor\":\"white\",\"linecolor\":\"white\",\"showbackground\":true,\"ticks\":\"\",\"zerolinecolor\":\"white\",\"gridwidth\":2},\"zaxis\":{\"backgroundcolor\":\"#E5ECF6\",\"gridcolor\":\"white\",\"linecolor\":\"white\",\"showbackground\":true,\"ticks\":\"\",\"zerolinecolor\":\"white\",\"gridwidth\":2}},\"shapedefaults\":{\"line\":{\"color\":\"#2a3f5f\"}},\"annotationdefaults\":{\"arrowcolor\":\"#2a3f5f\",\"arrowhead\":0,\"arrowwidth\":1},\"geo\":{\"bgcolor\":\"white\",\"landcolor\":\"#E5ECF6\",\"subunitcolor\":\"white\",\"showland\":true,\"showlakes\":true,\"lakecolor\":\"white\"},\"title\":{\"x\":0.05},\"mapbox\":{\"style\":\"light\"}}},\"xaxis\":{\"anchor\":\"y\",\"domain\":[0.0,1.0],\"title\":{\"text\":\"dt\"}},\"yaxis\":{\"anchor\":\"x\",\"domain\":[0.0,1.0],\"title\":{\"text\":\"value\"}},\"legend\":{\"title\":{\"text\":\"variable\"},\"tracegroupgap\":0},\"title\":{\"text\":\"Temp & Pressure vs Time in London\"}},                        {\"responsive\": true}                    ).then(function(){\n",
       "                            \n",
       "var gd = document.getElementById('592afffc-61e4-4f3e-8ede-cb8510cef438');\n",
       "var x = new MutationObserver(function (mutations, observer) {{\n",
       "        var display = window.getComputedStyle(gd).display;\n",
       "        if (!display || display === 'none') {{\n",
       "            console.log([gd, 'removed!']);\n",
       "            Plotly.purge(gd);\n",
       "            observer.disconnect();\n",
       "        }}\n",
       "}});\n",
       "\n",
       "// Listen for the removal of the full notebook cells\n",
       "var notebookContainer = gd.closest('#notebook-container');\n",
       "if (notebookContainer) {{\n",
       "    x.observe(notebookContainer, {childList: true});\n",
       "}}\n",
       "\n",
       "// Listen for the clearing of the current output cell\n",
       "var outputEl = gd.closest('.output');\n",
       "if (outputEl) {{\n",
       "    x.observe(outputEl, {childList: true});\n",
       "}}\n",
       "\n",
       "                        })                };                });            </script>        </div>"
      ]
     },
     "metadata": {},
     "output_type": "display_data"
    },
    {
     "data": {
      "text/plain": [
       "<Figure size 640x480 with 0 Axes>"
      ]
     },
     "metadata": {},
     "output_type": "display_data"
    }
   ],
   "source": [
    "import plotly_express as px\n",
    "fig = px.line(df_etl, x='dt', y=['temp', 'pressure'], title=f\"Temp & Pressure vs Time in {next(iter(set(df_etl.city_name)))}\")\n",
    "fig.show()\n",
    "fname = '/home/hodalys/LondonWeather/weather-site/content/images/temperature&pressure.png'\n",
    "plt.savefig(fname)"
   ]
  },
  {
   "cell_type": "code",
   "execution_count": 115,
   "id": "1224ed5a-ff87-45b0-bf8d-f9930a16c595",
   "metadata": {},
   "outputs": [
    {
     "data": {
      "image/png": "[encoded data removed]",
      "text/plain": [
       "<Figure size 640x480 with 1 Axes>"
      ]
     },
     "metadata": {},
     "output_type": "display_data"
    }
   ],
   "source": [
    "df_etl.temp.hist(bins=20)\n",
    "plt.title(f'Histogram Temp in {next(iter(set(df_etl.city_name)))}')\n",
    "plt.grid()"
   ]
  },
  {
   "cell_type": "code",
   "execution_count": 116,
   "id": "862de5d6-2270-4540-a8fa-d2e404a2d3cf",
   "metadata": {},
   "outputs": [
    {
     "data": {
      "application/vnd.plotly.v1+json": {
       "config": {
        "plotlyServerURL": "https://plot.ly"
       },
       "data": [
        {
         "alignmentgroup": "True",
         "box": {
          "visible": false
         },
         "hovertemplate": "temp=%{x}<extra></extra>",
         "legendgroup": "",
         "marker": {
          "color": "#636efa"
         },
         "name": "",
         "offsetgroup": "",
         "orientation": "h",
         "scalegroup": "True",
         "showlegend": false,
         "type": "violin",
         "x": [
          27.79,
          22.35,
          22.35,
          22.35,
          21.18,
          21.18,
          20.63,
          20.93,
          20.4,
          20.4,
          20.4,
          20.07,
          20.07,
          19.84,
          19.84,
          19.84,
          19.82,
          19.72,
          19.33,
          19.29,
          19.18,
          19.18,
          18.6,
          17.81
         ],
         "x0": " ",
         "xaxis": "x",
         "y0": " ",
         "yaxis": "y"
        }
       ],
       "layout": {
        "autosize": true,
        "legend": {
         "tracegroupgap": 0
        },
        "template": {
         "data": {
          "bar": [
           {
            "error_x": {
             "color": "#2a3f5f"
            },
            "error_y": {
             "color": "#2a3f5f"
            },
            "marker": {
             "line": {
              "color": "#E5ECF6",
              "width": 0.5
             },
             "pattern": {
              "fillmode": "overlay",
              "size": 10,
              "solidity": 0.2
             }
            },
            "type": "bar"
           }
          ],
          "barpolar": [
           {
            "marker": {
             "line": {
              "color": "#E5ECF6",
              "width": 0.5
             },
             "pattern": {
              "fillmode": "overlay",
              "size": 10,
              "solidity": 0.2
             }
            },
            "type": "barpolar"
           }
          ],
          "carpet": [
           {
            "aaxis": {
             "endlinecolor": "#2a3f5f",
             "gridcolor": "white",
             "linecolor": "white",
             "minorgridcolor": "white",
             "startlinecolor": "#2a3f5f"
            },
            "baxis": {
             "endlinecolor": "#2a3f5f",
             "gridcolor": "white",
             "linecolor": "white",
             "minorgridcolor": "white",
             "startlinecolor": "#2a3f5f"
            },
            "type": "carpet"
           }
          ],
          "choropleth": [
           {
            "colorbar": {
             "outlinewidth": 0,
             "ticks": ""
            },
            "type": "choropleth"
           }
          ],
          "contour": [
           {
            "colorbar": {
             "outlinewidth": 0,
             "ticks": ""
            },
            "colorscale": [
             [
              0,
              "#0d0887"
             ],
             [
              0.1111111111111111,
              "#46039f"
             ],
             [
              0.2222222222222222,
              "#7201a8"
             ],
             [
              0.3333333333333333,
              "#9c179e"
             ],
             [
              0.4444444444444444,
              "#bd3786"
             ],
             [
              0.5555555555555556,
              "#d8576b"
             ],
             [
              0.6666666666666666,
              "#ed7953"
             ],
             [
              0.7777777777777778,
              "#fb9f3a"
             ],
             [
              0.8888888888888888,
              "#fdca26"
             ],
             [
              1,
              "#f0f921"
             ]
            ],
            "type": "contour"
           }
          ],
          "contourcarpet": [
           {
            "colorbar": {
             "outlinewidth": 0,
             "ticks": ""
            },
            "type": "contourcarpet"
           }
          ],
          "heatmap": [
           {
            "colorbar": {
             "outlinewidth": 0,
             "ticks": ""
            },
            "colorscale": [
             [
              0,
              "#0d0887"
             ],
             [
              0.1111111111111111,
              "#46039f"
             ],
             [
              0.2222222222222222,
              "#7201a8"
             ],
             [
              0.3333333333333333,
              "#9c179e"
             ],
             [
              0.4444444444444444,
              "#bd3786"
             ],
             [
              0.5555555555555556,
              "#d8576b"
             ],
             [
              0.6666666666666666,
              "#ed7953"
             ],
             [
              0.7777777777777778,
              "#fb9f3a"
             ],
             [
              0.8888888888888888,
              "#fdca26"
             ],
             [
              1,
              "#f0f921"
             ]
            ],
            "type": "heatmap"
           }
          ],
          "heatmapgl": [
           {
            "colorbar": {
             "outlinewidth": 0,
             "ticks": ""
            },
            "colorscale": [
             [
              0,
              "#0d0887"
             ],
             [
              0.1111111111111111,
              "#46039f"
             ],
             [
              0.2222222222222222,
              "#7201a8"
             ],
             [
              0.3333333333333333,
              "#9c179e"
             ],
             [
              0.4444444444444444,
              "#bd3786"
             ],
             [
              0.5555555555555556,
              "#d8576b"
             ],
             [
              0.6666666666666666,
              "#ed7953"
             ],
             [
              0.7777777777777778,
              "#fb9f3a"
             ],
             [
              0.8888888888888888,
              "#fdca26"
             ],
             [
              1,
              "#f0f921"
             ]
            ],
            "type": "heatmapgl"
           }
          ],
          "histogram": [
           {
            "marker": {
             "pattern": {
              "fillmode": "overlay",
              "size": 10,
              "solidity": 0.2
             }
            },
            "type": "histogram"
           }
          ],
          "histogram2d": [
           {
            "colorbar": {
             "outlinewidth": 0,
             "ticks": ""
            },
            "colorscale": [
             [
              0,
              "#0d0887"
             ],
             [
              0.1111111111111111,
              "#46039f"
             ],
             [
              0.2222222222222222,
              "#7201a8"
             ],
             [
              0.3333333333333333,
              "#9c179e"
             ],
             [
              0.4444444444444444,
              "#bd3786"
             ],
             [
              0.5555555555555556,
              "#d8576b"
             ],
             [
              0.6666666666666666,
              "#ed7953"
             ],
             [
              0.7777777777777778,
              "#fb9f3a"
             ],
             [
              0.8888888888888888,
              "#fdca26"
             ],
             [
              1,
              "#f0f921"
             ]
            ],
            "type": "histogram2d"
           }
          ],
          "histogram2dcontour": [
           {
            "colorbar": {
             "outlinewidth": 0,
             "ticks": ""
            },
            "colorscale": [
             [
              0,
              "#0d0887"
             ],
             [
              0.1111111111111111,
              "#46039f"
             ],
             [
              0.2222222222222222,
              "#7201a8"
             ],
             [
              0.3333333333333333,
              "#9c179e"
             ],
             [
              0.4444444444444444,
              "#bd3786"
             ],
             [
              0.5555555555555556,
              "#d8576b"
             ],
             [
              0.6666666666666666,
              "#ed7953"
             ],
             [
              0.7777777777777778,
              "#fb9f3a"
             ],
             [
              0.8888888888888888,
              "#fdca26"
             ],
             [
              1,
              "#f0f921"
             ]
            ],
            "type": "histogram2dcontour"
           }
          ],
          "mesh3d": [
           {
            "colorbar": {
             "outlinewidth": 0,
             "ticks": ""
            },
            "type": "mesh3d"
           }
          ],
          "parcoords": [
           {
            "line": {
             "colorbar": {
              "outlinewidth": 0,
              "ticks": ""
             }
            },
            "type": "parcoords"
           }
          ],
          "pie": [
           {
            "automargin": true,
            "type": "pie"
           }
          ],
          "scatter": [
           {
            "fillpattern": {
             "fillmode": "overlay",
             "size": 10,
             "solidity": 0.2
            },
            "type": "scatter"
           }
          ],
          "scatter3d": [
           {
            "line": {
             "colorbar": {
              "outlinewidth": 0,
              "ticks": ""
             }
            },
            "marker": {
             "colorbar": {
              "outlinewidth": 0,
              "ticks": ""
             }
            },
            "type": "scatter3d"
           }
          ],
          "scattercarpet": [
           {
            "marker": {
             "colorbar": {
              "outlinewidth": 0,
              "ticks": ""
             }
            },
            "type": "scattercarpet"
           }
          ],
          "scattergeo": [
           {
            "marker": {
             "colorbar": {
              "outlinewidth": 0,
              "ticks": ""
             }
            },
            "type": "scattergeo"
           }
          ],
          "scattergl": [
           {
            "marker": {
             "colorbar": {
              "outlinewidth": 0,
              "ticks": ""
             }
            },
            "type": "scattergl"
           }
          ],
          "scattermapbox": [
           {
            "marker": {
             "colorbar": {
              "outlinewidth": 0,
              "ticks": ""
             }
            },
            "type": "scattermapbox"
           }
          ],
          "scatterpolar": [
           {
            "marker": {
             "colorbar": {
              "outlinewidth": 0,
              "ticks": ""
             }
            },
            "type": "scatterpolar"
           }
          ],
          "scatterpolargl": [
           {
            "marker": {
             "colorbar": {
              "outlinewidth": 0,
              "ticks": ""
             }
            },
            "type": "scatterpolargl"
           }
          ],
          "scatterternary": [
           {
            "marker": {
             "colorbar": {
              "outlinewidth": 0,
              "ticks": ""
             }
            },
            "type": "scatterternary"
           }
          ],
          "surface": [
           {
            "colorbar": {
             "outlinewidth": 0,
             "ticks": ""
            },
            "colorscale": [
             [
              0,
              "#0d0887"
             ],
             [
              0.1111111111111111,
              "#46039f"
             ],
             [
              0.2222222222222222,
              "#7201a8"
             ],
             [
              0.3333333333333333,
              "#9c179e"
             ],
             [
              0.4444444444444444,
              "#bd3786"
             ],
             [
              0.5555555555555556,
              "#d8576b"
             ],
             [
              0.6666666666666666,
              "#ed7953"
             ],
             [
              0.7777777777777778,
              "#fb9f3a"
             ],
             [
              0.8888888888888888,
              "#fdca26"
             ],
             [
              1,
              "#f0f921"
             ]
            ],
            "type": "surface"
           }
          ],
          "table": [
           {
            "cells": {
             "fill": {
              "color": "#EBF0F8"
             },
             "line": {
              "color": "white"
             }
            },
            "header": {
             "fill": {
              "color": "#C8D4E3"
             },
             "line": {
              "color": "white"
             }
            },
            "type": "table"
           }
          ]
         },
         "layout": {
          "annotationdefaults": {
           "arrowcolor": "#2a3f5f",
           "arrowhead": 0,
           "arrowwidth": 1
          },
          "autotypenumbers": "strict",
          "coloraxis": {
           "colorbar": {
            "outlinewidth": 0,
            "ticks": ""
           }
          },
          "colorscale": {
           "diverging": [
            [
             0,
             "#8e0152"
            ],
            [
             0.1,
             "#c51b7d"
            ],
            [
             0.2,
             "#de77ae"
            ],
            [
             0.3,
             "#f1b6da"
            ],
            [
             0.4,
             "#fde0ef"
            ],
            [
             0.5,
             "#f7f7f7"
            ],
            [
             0.6,
             "#e6f5d0"
            ],
            [
             0.7,
             "#b8e186"
            ],
            [
             0.8,
             "#7fbc41"
            ],
            [
             0.9,
             "#4d9221"
            ],
            [
             1,
             "#276419"
            ]
           ],
           "sequential": [
            [
             0,
             "#0d0887"
            ],
            [
             0.1111111111111111,
             "#46039f"
            ],
            [
             0.2222222222222222,
             "#7201a8"
            ],
            [
             0.3333333333333333,
             "#9c179e"
            ],
            [
             0.4444444444444444,
             "#bd3786"
            ],
            [
             0.5555555555555556,
             "#d8576b"
            ],
            [
             0.6666666666666666,
             "#ed7953"
            ],
            [
             0.7777777777777778,
             "#fb9f3a"
            ],
            [
             0.8888888888888888,
             "#fdca26"
            ],
            [
             1,
             "#f0f921"
            ]
           ],
           "sequentialminus": [
            [
             0,
             "#0d0887"
            ],
            [
             0.1111111111111111,
             "#46039f"
            ],
            [
             0.2222222222222222,
             "#7201a8"
            ],
            [
             0.3333333333333333,
             "#9c179e"
            ],
            [
             0.4444444444444444,
             "#bd3786"
            ],
            [
             0.5555555555555556,
             "#d8576b"
            ],
            [
             0.6666666666666666,
             "#ed7953"
            ],
            [
             0.7777777777777778,
             "#fb9f3a"
            ],
            [
             0.8888888888888888,
             "#fdca26"
            ],
            [
             1,
             "#f0f921"
            ]
           ]
          },
          "colorway": [
           "#636efa",
           "#EF553B",
           "#00cc96",
           "#ab63fa",
           "#FFA15A",
           "#19d3f3",
           "#FF6692",
           "#B6E880",
           "#FF97FF",
           "#FECB52"
          ],
          "font": {
           "color": "#2a3f5f"
          },
          "geo": {
           "bgcolor": "white",
           "lakecolor": "white",
           "landcolor": "#E5ECF6",
           "showlakes": true,
           "showland": true,
           "subunitcolor": "white"
          },
          "hoverlabel": {
           "align": "left"
          },
          "hovermode": "closest",
          "mapbox": {
           "style": "light"
          },
          "paper_bgcolor": "white",
          "plot_bgcolor": "#E5ECF6",
          "polar": {
           "angularaxis": {
            "gridcolor": "white",
            "linecolor": "white",
            "ticks": ""
           },
           "bgcolor": "#E5ECF6",
           "radialaxis": {
            "gridcolor": "white",
            "linecolor": "white",
            "ticks": ""
           }
          },
          "scene": {
           "xaxis": {
            "backgroundcolor": "#E5ECF6",
            "gridcolor": "white",
            "gridwidth": 2,
            "linecolor": "white",
            "showbackground": true,
            "ticks": "",
            "zerolinecolor": "white"
           },
           "yaxis": {
            "backgroundcolor": "#E5ECF6",
            "gridcolor": "white",
            "gridwidth": 2,
            "linecolor": "white",
            "showbackground": true,
            "ticks": "",
            "zerolinecolor": "white"
           },
           "zaxis": {
            "backgroundcolor": "#E5ECF6",
            "gridcolor": "white",
            "gridwidth": 2,
            "linecolor": "white",
            "showbackground": true,
            "ticks": "",
            "zerolinecolor": "white"
           }
          },
          "shapedefaults": {
           "line": {
            "color": "#2a3f5f"
           }
          },
          "ternary": {
           "aaxis": {
            "gridcolor": "white",
            "linecolor": "white",
            "ticks": ""
           },
           "baxis": {
            "gridcolor": "white",
            "linecolor": "white",
            "ticks": ""
           },
           "bgcolor": "#E5ECF6",
           "caxis": {
            "gridcolor": "white",
            "linecolor": "white",
            "ticks": ""
           }
          },
          "title": {
           "x": 0.05
          },
          "xaxis": {
           "automargin": true,
           "gridcolor": "white",
           "linecolor": "white",
           "ticks": "",
           "title": {
            "standoff": 15
           },
           "zerolinecolor": "white",
           "zerolinewidth": 2
          },
          "yaxis": {
           "automargin": true,
           "gridcolor": "white",
           "linecolor": "white",
           "ticks": "",
           "title": {
            "standoff": 15
           },
           "zerolinecolor": "white",
           "zerolinewidth": 2
          }
         }
        },
        "title": {
         "text": "Violin Plot Temp in London"
        },
        "violinmode": "group",
        "xaxis": {
         "anchor": "y",
         "autorange": true,
         "domain": [
          0,
          1
         ],
         "range": [
          15.841974620759276,
          29.758025379240724
         ],
         "title": {
          "text": "temp"
         },
         "type": "linear"
        },
        "yaxis": {
         "anchor": "x",
         "autorange": true,
         "domain": [
          0,
          1
         ],
         "range": [
          -0.5,
          0.5
         ],
         "type": "category"
        }
       }
      },
      "image/png": "[encoded data removed]",
      "text/html": [
       "<div>                            <div id=\"8ef795e2-883b-4d32-a3fd-9f61158d3fe3\" class=\"plotly-graph-div\" style=\"height:525px; width:100%;\"></div>            <script type=\"text/javascript\">                require([\"plotly\"], function(Plotly) {                    window.PLOTLYENV=window.PLOTLYENV || {};                                    if (document.getElementById(\"8ef795e2-883b-4d32-a3fd-9f61158d3fe3\")) {                    Plotly.newPlot(                        \"8ef795e2-883b-4d32-a3fd-9f61158d3fe3\",                        [{\"alignmentgroup\":\"True\",\"box\":{\"visible\":false},\"hovertemplate\":\"temp=%{x}\\u003cextra\\u003e\\u003c\\u002fextra\\u003e\",\"legendgroup\":\"\",\"marker\":{\"color\":\"#636efa\"},\"name\":\"\",\"offsetgroup\":\"\",\"orientation\":\"h\",\"scalegroup\":\"True\",\"showlegend\":false,\"x\":[27.79,22.35,22.35,22.35,21.18,21.18,20.63,20.93,20.4,20.4,20.4,20.07,20.07,19.84,19.84,19.84,19.82,19.72,19.33,19.29,19.18,19.18,18.6,17.81],\"x0\":\" \",\"xaxis\":\"x\",\"y0\":\" \",\"yaxis\":\"y\",\"type\":\"violin\"}],                        {\"template\":{\"data\":{\"histogram2dcontour\":[{\"type\":\"histogram2dcontour\",\"colorbar\":{\"outlinewidth\":0,\"ticks\":\"\"},\"colorscale\":[[0.0,\"#0d0887\"],[0.1111111111111111,\"#46039f\"],[0.2222222222222222,\"#7201a8\"],[0.3333333333333333,\"#9c179e\"],[0.4444444444444444,\"#bd3786\"],[0.5555555555555556,\"#d8576b\"],[0.6666666666666666,\"#ed7953\"],[0.7777777777777778,\"#fb9f3a\"],[0.8888888888888888,\"#fdca26\"],[1.0,\"#f0f921\"]]}],\"choropleth\":[{\"type\":\"choropleth\",\"colorbar\":{\"outlinewidth\":0,\"ticks\":\"\"}}],\"histogram2d\":[{\"type\":\"histogram2d\",\"colorbar\":{\"outlinewidth\":0,\"ticks\":\"\"},\"colorscale\":[[0.0,\"#0d0887\"],[0.1111111111111111,\"#46039f\"],[0.2222222222222222,\"#7201a8\"],[0.3333333333333333,\"#9c179e\"],[0.4444444444444444,\"#bd3786\"],[0.5555555555555556,\"#d8576b\"],[0.6666666666666666,\"#ed7953\"],[0.7777777777777778,\"#fb9f3a\"],[0.8888888888888888,\"#fdca26\"],[1.0,\"#f0f921\"]]}],\"heatmap\":[{\"type\":\"heatmap\",\"colorbar\":{\"outlinewidth\":0,\"ticks\":\"\"},\"colorscale\":[[0.0,\"#0d0887\"],[0.1111111111111111,\"#46039f\"],[0.2222222222222222,\"#7201a8\"],[0.3333333333333333,\"#9c179e\"],[0.4444444444444444,\"#bd3786\"],[0.5555555555555556,\"#d8576b\"],[0.6666666666666666,\"#ed7953\"],[0.7777777777777778,\"#fb9f3a\"],[0.8888888888888888,\"#fdca26\"],[1.0,\"#f0f921\"]]}],\"heatmapgl\":[{\"type\":\"heatmapgl\",\"colorbar\":{\"outlinewidth\":0,\"ticks\":\"\"},\"colorscale\":[[0.0,\"#0d0887\"],[0.1111111111111111,\"#46039f\"],[0.2222222222222222,\"#7201a8\"],[0.3333333333333333,\"#9c179e\"],[0.4444444444444444,\"#bd3786\"],[0.5555555555555556,\"#d8576b\"],[0.6666666666666666,\"#ed7953\"],[0.7777777777777778,\"#fb9f3a\"],[0.8888888888888888,\"#fdca26\"],[1.0,\"#f0f921\"]]}],\"contourcarpet\":[{\"type\":\"contourcarpet\",\"colorbar\":{\"outlinewidth\":0,\"ticks\":\"\"}}],\"contour\":[{\"type\":\"contour\",\"colorbar\":{\"outlinewidth\":0,\"ticks\":\"\"},\"colorscale\":[[0.0,\"#0d0887\"],[0.1111111111111111,\"#46039f\"],[0.2222222222222222,\"#7201a8\"],[0.3333333333333333,\"#9c179e\"],[0.4444444444444444,\"#bd3786\"],[0.5555555555555556,\"#d8576b\"],[0.6666666666666666,\"#ed7953\"],[0.7777777777777778,\"#fb9f3a\"],[0.8888888888888888,\"#fdca26\"],[1.0,\"#f0f921\"]]}],\"surface\":[{\"type\":\"surface\",\"colorbar\":{\"outlinewidth\":0,\"ticks\":\"\"},\"colorscale\":[[0.0,\"#0d0887\"],[0.1111111111111111,\"#46039f\"],[0.2222222222222222,\"#7201a8\"],[0.3333333333333333,\"#9c179e\"],[0.4444444444444444,\"#bd3786\"],[0.5555555555555556,\"#d8576b\"],[0.6666666666666666,\"#ed7953\"],[0.7777777777777778,\"#fb9f3a\"],[0.8888888888888888,\"#fdca26\"],[1.0,\"#f0f921\"]]}],\"mesh3d\":[{\"type\":\"mesh3d\",\"colorbar\":{\"outlinewidth\":0,\"ticks\":\"\"}}],\"scatter\":[{\"fillpattern\":{\"fillmode\":\"overlay\",\"size\":10,\"solidity\":0.2},\"type\":\"scatter\"}],\"parcoords\":[{\"type\":\"parcoords\",\"line\":{\"colorbar\":{\"outlinewidth\":0,\"ticks\":\"\"}}}],\"scatterpolargl\":[{\"type\":\"scatterpolargl\",\"marker\":{\"colorbar\":{\"outlinewidth\":0,\"ticks\":\"\"}}}],\"bar\":[{\"error_x\":{\"color\":\"#2a3f5f\"},\"error_y\":{\"color\":\"#2a3f5f\"},\"marker\":{\"line\":{\"color\":\"#E5ECF6\",\"width\":0.5},\"pattern\":{\"fillmode\":\"overlay\",\"size\":10,\"solidity\":0.2}},\"type\":\"bar\"}],\"scattergeo\":[{\"type\":\"scattergeo\",\"marker\":{\"colorbar\":{\"outlinewidth\":0,\"ticks\":\"\"}}}],\"scatterpolar\":[{\"type\":\"scatterpolar\",\"marker\":{\"colorbar\":{\"outlinewidth\":0,\"ticks\":\"\"}}}],\"histogram\":[{\"marker\":{\"pattern\":{\"fillmode\":\"overlay\",\"size\":10,\"solidity\":0.2}},\"type\":\"histogram\"}],\"scattergl\":[{\"type\":\"scattergl\",\"marker\":{\"colorbar\":{\"outlinewidth\":0,\"ticks\":\"\"}}}],\"scatter3d\":[{\"type\":\"scatter3d\",\"line\":{\"colorbar\":{\"outlinewidth\":0,\"ticks\":\"\"}},\"marker\":{\"colorbar\":{\"outlinewidth\":0,\"ticks\":\"\"}}}],\"scattermapbox\":[{\"type\":\"scattermapbox\",\"marker\":{\"colorbar\":{\"outlinewidth\":0,\"ticks\":\"\"}}}],\"scatterternary\":[{\"type\":\"scatterternary\",\"marker\":{\"colorbar\":{\"outlinewidth\":0,\"ticks\":\"\"}}}],\"scattercarpet\":[{\"type\":\"scattercarpet\",\"marker\":{\"colorbar\":{\"outlinewidth\":0,\"ticks\":\"\"}}}],\"carpet\":[{\"aaxis\":{\"endlinecolor\":\"#2a3f5f\",\"gridcolor\":\"white\",\"linecolor\":\"white\",\"minorgridcolor\":\"white\",\"startlinecolor\":\"#2a3f5f\"},\"baxis\":{\"endlinecolor\":\"#2a3f5f\",\"gridcolor\":\"white\",\"linecolor\":\"white\",\"minorgridcolor\":\"white\",\"startlinecolor\":\"#2a3f5f\"},\"type\":\"carpet\"}],\"table\":[{\"cells\":{\"fill\":{\"color\":\"#EBF0F8\"},\"line\":{\"color\":\"white\"}},\"header\":{\"fill\":{\"color\":\"#C8D4E3\"},\"line\":{\"color\":\"white\"}},\"type\":\"table\"}],\"barpolar\":[{\"marker\":{\"line\":{\"color\":\"#E5ECF6\",\"width\":0.5},\"pattern\":{\"fillmode\":\"overlay\",\"size\":10,\"solidity\":0.2}},\"type\":\"barpolar\"}],\"pie\":[{\"automargin\":true,\"type\":\"pie\"}]},\"layout\":{\"autotypenumbers\":\"strict\",\"colorway\":[\"#636efa\",\"#EF553B\",\"#00cc96\",\"#ab63fa\",\"#FFA15A\",\"#19d3f3\",\"#FF6692\",\"#B6E880\",\"#FF97FF\",\"#FECB52\"],\"font\":{\"color\":\"#2a3f5f\"},\"hovermode\":\"closest\",\"hoverlabel\":{\"align\":\"left\"},\"paper_bgcolor\":\"white\",\"plot_bgcolor\":\"#E5ECF6\",\"polar\":{\"bgcolor\":\"#E5ECF6\",\"angularaxis\":{\"gridcolor\":\"white\",\"linecolor\":\"white\",\"ticks\":\"\"},\"radialaxis\":{\"gridcolor\":\"white\",\"linecolor\":\"white\",\"ticks\":\"\"}},\"ternary\":{\"bgcolor\":\"#E5ECF6\",\"aaxis\":{\"gridcolor\":\"white\",\"linecolor\":\"white\",\"ticks\":\"\"},\"baxis\":{\"gridcolor\":\"white\",\"linecolor\":\"white\",\"ticks\":\"\"},\"caxis\":{\"gridcolor\":\"white\",\"linecolor\":\"white\",\"ticks\":\"\"}},\"coloraxis\":{\"colorbar\":{\"outlinewidth\":0,\"ticks\":\"\"}},\"colorscale\":{\"sequential\":[[0.0,\"#0d0887\"],[0.1111111111111111,\"#46039f\"],[0.2222222222222222,\"#7201a8\"],[0.3333333333333333,\"#9c179e\"],[0.4444444444444444,\"#bd3786\"],[0.5555555555555556,\"#d8576b\"],[0.6666666666666666,\"#ed7953\"],[0.7777777777777778,\"#fb9f3a\"],[0.8888888888888888,\"#fdca26\"],[1.0,\"#f0f921\"]],\"sequentialminus\":[[0.0,\"#0d0887\"],[0.1111111111111111,\"#46039f\"],[0.2222222222222222,\"#7201a8\"],[0.3333333333333333,\"#9c179e\"],[0.4444444444444444,\"#bd3786\"],[0.5555555555555556,\"#d8576b\"],[0.6666666666666666,\"#ed7953\"],[0.7777777777777778,\"#fb9f3a\"],[0.8888888888888888,\"#fdca26\"],[1.0,\"#f0f921\"]],\"diverging\":[[0,\"#8e0152\"],[0.1,\"#c51b7d\"],[0.2,\"#de77ae\"],[0.3,\"#f1b6da\"],[0.4,\"#fde0ef\"],[0.5,\"#f7f7f7\"],[0.6,\"#e6f5d0\"],[0.7,\"#b8e186\"],[0.8,\"#7fbc41\"],[0.9,\"#4d9221\"],[1,\"#276419\"]]},\"xaxis\":{\"gridcolor\":\"white\",\"linecolor\":\"white\",\"ticks\":\"\",\"title\":{\"standoff\":15},\"zerolinecolor\":\"white\",\"automargin\":true,\"zerolinewidth\":2},\"yaxis\":{\"gridcolor\":\"white\",\"linecolor\":\"white\",\"ticks\":\"\",\"title\":{\"standoff\":15},\"zerolinecolor\":\"white\",\"automargin\":true,\"zerolinewidth\":2},\"scene\":{\"xaxis\":{\"backgroundcolor\":\"#E5ECF6\",\"gridcolor\":\"white\",\"linecolor\":\"white\",\"showbackground\":true,\"ticks\":\"\",\"zerolinecolor\":\"white\",\"gridwidth\":2},\"yaxis\":{\"backgroundcolor\":\"#E5ECF6\",\"gridcolor\":\"white\",\"linecolor\":\"white\",\"showbackground\":true,\"ticks\":\"\",\"zerolinecolor\":\"white\",\"gridwidth\":2},\"zaxis\":{\"backgroundcolor\":\"#E5ECF6\",\"gridcolor\":\"white\",\"linecolor\":\"white\",\"showbackground\":true,\"ticks\":\"\",\"zerolinecolor\":\"white\",\"gridwidth\":2}},\"shapedefaults\":{\"line\":{\"color\":\"#2a3f5f\"}},\"annotationdefaults\":{\"arrowcolor\":\"#2a3f5f\",\"arrowhead\":0,\"arrowwidth\":1},\"geo\":{\"bgcolor\":\"white\",\"landcolor\":\"#E5ECF6\",\"subunitcolor\":\"white\",\"showland\":true,\"showlakes\":true,\"lakecolor\":\"white\"},\"title\":{\"x\":0.05},\"mapbox\":{\"style\":\"light\"}}},\"xaxis\":{\"anchor\":\"y\",\"domain\":[0.0,1.0],\"title\":{\"text\":\"temp\"}},\"yaxis\":{\"anchor\":\"x\",\"domain\":[0.0,1.0]},\"legend\":{\"tracegroupgap\":0},\"title\":{\"text\":\"Violin Plot Temp in London\"},\"violinmode\":\"group\"},                        {\"responsive\": true}                    ).then(function(){\n",
       "                            \n",
       "var gd = document.getElementById('8ef795e2-883b-4d32-a3fd-9f61158d3fe3');\n",
       "var x = new MutationObserver(function (mutations, observer) {{\n",
       "        var display = window.getComputedStyle(gd).display;\n",
       "        if (!display || display === 'none') {{\n",
       "            console.log([gd, 'removed!']);\n",
       "            Plotly.purge(gd);\n",
       "            observer.disconnect();\n",
       "        }}\n",
       "}});\n",
       "\n",
       "// Listen for the removal of the full notebook cells\n",
       "var notebookContainer = gd.closest('#notebook-container');\n",
       "if (notebookContainer) {{\n",
       "    x.observe(notebookContainer, {childList: true});\n",
       "}}\n",
       "\n",
       "// Listen for the clearing of the current output cell\n",
       "var outputEl = gd.closest('.output');\n",
       "if (outputEl) {{\n",
       "    x.observe(outputEl, {childList: true});\n",
       "}}\n",
       "\n",
       "                        })                };                });            </script>        </div>"
      ]
     },
     "metadata": {},
     "output_type": "display_data"
    }
   ],
   "source": [
    "fig = px.violin(df_etl, 'temp', title=f\"Violin Plot Temp in {next(iter(set(df_etl.city_name)))}\")\n",
    "fig.show()"
   ]
  },
  {
   "cell_type": "code",
   "execution_count": 117,
   "id": "cb9b9ebc-b73b-4321-a7e3-fe708ac1883d",
   "metadata": {},
   "outputs": [
    {
     "data": {
      "image/png": "[encoded data removed]",
      "text/plain": [
       "<Figure size 800x600 with 1 Axes>"
      ]
     },
     "metadata": {},
     "output_type": "display_data"
    }
   ],
   "source": [
    "fig = plt.figure(figsize=(8,6))\n",
    "plt.plot(df_etl['dt'], df_etl['temp'])\n",
    "plt.grid()\n",
    "plt.title(f'Temp vs Time in {next(iter(set(df_etl.city_name)))}')\n",
    "fig.tight_layout()\n",
    "fname = '/home/hodalys/LondonWeather/weather-site/content/images/temperature.png'\n",
    "plt.savefig(fname)"
   ]
  },
  {
   "cell_type": "code",
   "execution_count": 118,
   "id": "ca4329da-8d14-4671-9b2e-3c9895895a6f",
   "metadata": {},
   "outputs": [
    {
     "data": {
      "image/png": "[encoded data removed]",
      "text/plain": [
       "<Figure size 600x400 with 1 Axes>"
      ]
     },
     "metadata": {},
     "output_type": "display_data"
    }
   ],
   "source": [
    "fig = plt.figure(figsize=(6,4))\n",
    "plt.plot(df_etl['dt'], df_etl['humidity'])\n",
    "plt.grid()\n",
    "plt.title(f'Humidity vs Time in {next(iter(set(df_etl.city_name)))}')\n",
    "fig.tight_layout()\n",
    "fname = '/home/hodalys/LondonWeather/weather-site/content/images/humidity.png'\n",
    "plt.savefig(fname)"
   ]
  },
  {
   "cell_type": "code",
   "execution_count": 122,
   "id": "c05ab530-f3eb-4295-be41-05d3836596f9",
   "metadata": {},
   "outputs": [
    {
     "data": {
      "image/png": "[encoded data removed]",
      "text/plain": [
       "<Figure size 640x480 with 1 Axes>"
      ]
     },
     "metadata": {},
     "output_type": "display_data"
    }
   ],
   "source": [
    "df_etl.temp_max.hist(bins=20)\n",
    "plt.title(f'Histogram Temp in {next(iter(set(df_etl.city_name)))}')\n",
    "plt.grid()"
   ]
  }
 ],
 "metadata": {
  "kernelspec": {
   "display_name": "Python 3 (ipykernel)",
   "language": "python",
   "name": "python3"
  },
  "language_info": {
   "codemirror_mode": {
    "name": "ipython",
    "version": 3
   },
   "file_extension": ".py",
   "mimetype": "text/x-python",
   "name": "python",
   "nbconvert_exporter": "python",
   "pygments_lexer": "ipython3",
   "version": "3.12.3"
  }
 },
 "nbformat": 4,
 "nbformat_minor": 5
}
